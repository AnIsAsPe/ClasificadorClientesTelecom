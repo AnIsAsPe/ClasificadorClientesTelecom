{
  "nbformat": 4,
  "nbformat_minor": 0,
  "metadata": {
    "kernelspec": {
      "display_name": "Python 3",
      "language": "python",
      "name": "python3"
    },
    "language_info": {
      "codemirror_mode": {
        "name": "ipython",
        "version": 3
      },
      "file_extension": ".py",
      "mimetype": "text/x-python",
      "name": "python",
      "nbconvert_exporter": "python",
      "pygments_lexer": "ipython3",
      "version": "3.8.2"
    },
    "colab": {
      "name": "Introducción a Pandas.ipynb",
      "provenance": [],
      "toc_visible": true
    }
  },
  "cells": [
    {
      "cell_type": "markdown",
      "metadata": {
        "id": "adseiWLy7PYO"
      },
      "source": [
        "# Introducción a Pandas\n",
        "\n"
      ]
    },
    {
      "cell_type": "markdown",
      "metadata": {
        "id": "kSbu8IHu7PYP"
      },
      "source": [
        "[*Pandas*](http://pandas.pydata.org/) Es una librería de python para análisis de datos estructuradas en columnas y renglones, muy popular para manipulación, análisis y preprocesamiento  en columnas, ideal para manipular y analizar datos de entrada. Además, *Pandas* se integra muy bien con otras librerías de Ciencia de Datos, de manera que usualmente los algoritmos de machine learning reciben como entradas las dos principales estructuras de *Pandas*: los `DataFrames` y las `Series`\n",
        "\n",
        "\n"
      ]
    },
    {
      "cell_type": "markdown",
      "metadata": {
        "id": "D-BI53di7ka4"
      },
      "source": [
        "# Objetos de Pandas"
      ]
    },
    {
      "cell_type": "code",
      "metadata": {
        "collapsed": true,
        "id": "doYYmf_J7ka5"
      },
      "source": [
        "import numpy as np\n",
        "import pandas as pd"
      ],
      "execution_count": 1,
      "outputs": []
    },
    {
      "cell_type": "markdown",
      "metadata": {
        "id": "zCH13FTY7ka5"
      },
      "source": [
        "## Series\n",
        "\n",
        "Las series son equivalentes a los vectores de NumPy.\n",
        "\n",
        "Pueden crearse a partir de listas o vectores."
      ]
    },
    {
      "cell_type": "code",
      "metadata": {
        "id": "fFpx7n6k7ka6",
        "colab": {
          "base_uri": "https://localhost:8080/"
        },
        "outputId": "059c758e-35a9-4c76-f2a3-709893835fd3"
      },
      "source": [
        "c = ['rojo', 'verde', 'azul', 'amarillo']\n",
        "colores = pd.Series(c)\n",
        "colores"
      ],
      "execution_count": 2,
      "outputs": [
        {
          "output_type": "execute_result",
          "data": {
            "text/plain": [
              "0        rojo\n",
              "1       verde\n",
              "2        azul\n",
              "3    amarillo\n",
              "dtype: object"
            ]
          },
          "metadata": {
            "tags": []
          },
          "execution_count": 2
        }
      ]
    },
    {
      "cell_type": "code",
      "metadata": {
        "colab": {
          "base_uri": "https://localhost:8080/"
        },
        "id": "0ATXKbQa9S0I",
        "outputId": "414c3e77-e719-4782-80df-190fdd4a903f"
      },
      "source": [
        "p = np.array([0.2, 0.4, 0.8, 1])\r\n",
        "porcentajes = pd.Series(p)\r\n",
        "porcentajes"
      ],
      "execution_count": 3,
      "outputs": [
        {
          "output_type": "execute_result",
          "data": {
            "text/plain": [
              "0    0.2\n",
              "1    0.4\n",
              "2    0.8\n",
              "3    1.0\n",
              "dtype: float64"
            ]
          },
          "metadata": {
            "tags": []
          },
          "execution_count": 3
        }
      ]
    },
    {
      "cell_type": "markdown",
      "metadata": {
        "id": "hFr7D4FP7ka6"
      },
      "source": [
        "Una serie consta de los valores y de los índices y se puede acceder a ellos con los atributos  ``values`` e ``index``.\n",
        "\n",
        "Los valores son un vector de NumPy"
      ]
    },
    {
      "cell_type": "code",
      "metadata": {
        "colab": {
          "base_uri": "https://localhost:8080/"
        },
        "id": "ZaGM1KYs9ssK",
        "outputId": "5fc958f0-7864-4614-9a79-a3315fce5082"
      },
      "source": [
        "porcentajes.values"
      ],
      "execution_count": 4,
      "outputs": [
        {
          "output_type": "execute_result",
          "data": {
            "text/plain": [
              "array([0.2, 0.4, 0.8, 1. ])"
            ]
          },
          "metadata": {
            "tags": []
          },
          "execution_count": 4
        }
      ]
    },
    {
      "cell_type": "code",
      "metadata": {
        "id": "sQ8PEcKf7ka7",
        "colab": {
          "base_uri": "https://localhost:8080/"
        },
        "outputId": "d16921b2-efb9-4187-dd04-dd5522394548"
      },
      "source": [
        "porcentajes.index"
      ],
      "execution_count": 5,
      "outputs": [
        {
          "output_type": "execute_result",
          "data": {
            "text/plain": [
              "RangeIndex(start=0, stop=4, step=1)"
            ]
          },
          "metadata": {
            "tags": []
          },
          "execution_count": 5
        }
      ]
    },
    {
      "cell_type": "markdown",
      "metadata": {
        "id": "OgaC5vdo7ka7"
      },
      "source": [
        "Como en un vector de numpy, usamos los indices par obtener un subconjunto de elementos."
      ]
    },
    {
      "cell_type": "code",
      "metadata": {
        "id": "4PLXYcIs7ka8",
        "colab": {
          "base_uri": "https://localhost:8080/"
        },
        "outputId": "227dd19c-df03-4492-845d-9e89c73c9e2d"
      },
      "source": [
        "porcentajes[1]"
      ],
      "execution_count": 6,
      "outputs": [
        {
          "output_type": "execute_result",
          "data": {
            "text/plain": [
              "0.4"
            ]
          },
          "metadata": {
            "tags": []
          },
          "execution_count": 6
        }
      ]
    },
    {
      "cell_type": "code",
      "metadata": {
        "id": "LIKTzoKt7ka8",
        "colab": {
          "base_uri": "https://localhost:8080/"
        },
        "outputId": "a93cc34c-ec38-4cb5-f8d5-5f50e3497400"
      },
      "source": [
        "porcentajes[1:3]"
      ],
      "execution_count": 7,
      "outputs": [
        {
          "output_type": "execute_result",
          "data": {
            "text/plain": [
              "1    0.4\n",
              "2    0.8\n",
              "dtype: float64"
            ]
          },
          "metadata": {
            "tags": []
          },
          "execution_count": 7
        }
      ]
    },
    {
      "cell_type": "markdown",
      "metadata": {
        "id": "qsHFdLLp7ka9"
      },
      "source": [
        "Los objetos ``Series`` tienen la ventaja sobre los vectores de numpy que permite definir indices asociados a los valores, y pueden ser de cualquier tipo por ejemplo:"
      ]
    },
    {
      "cell_type": "code",
      "metadata": {
        "id": "mdZ_Tm3r7ka9",
        "colab": {
          "base_uri": "https://localhost:8080/"
        },
        "outputId": "b9d1937f-3f89-41a4-8b0b-08289a8a5ee5"
      },
      "source": [
        "nivel_color = pd.Series(p,   # toma el objeto p (puede ser lista o vector)\n",
        "                 index=c)    #asigna como índice el objeto c (lista o vector)\n",
        "nivel_color"
      ],
      "execution_count": 8,
      "outputs": [
        {
          "output_type": "execute_result",
          "data": {
            "text/plain": [
              "rojo        0.2\n",
              "verde       0.4\n",
              "azul        0.8\n",
              "amarillo    1.0\n",
              "dtype: float64"
            ]
          },
          "metadata": {
            "tags": []
          },
          "execution_count": 8
        }
      ]
    },
    {
      "cell_type": "code",
      "metadata": {
        "id": "KPfhFIgoAEdb",
        "outputId": "c839ef2b-219d-4ad9-a022-bebf43a0cd5a",
        "colab": {
          "base_uri": "https://localhost:8080/"
        }
      },
      "source": [
        "nivel_color.index"
      ],
      "execution_count": 22,
      "outputs": [
        {
          "output_type": "execute_result",
          "data": {
            "text/plain": [
              "Index(['rojo', 'verde', 'azul', 'amarillo', 'blanco'], dtype='object')"
            ]
          },
          "metadata": {
            "tags": []
          },
          "execution_count": 22
        }
      ]
    },
    {
      "cell_type": "code",
      "metadata": {
        "id": "4kH1DyhR7ka-",
        "colab": {
          "base_uri": "https://localhost:8080/"
        },
        "outputId": "69e922fc-9d80-4605-d52e-4c0991172206"
      },
      "source": [
        "nivel_color['azul']         # Nos recuerda el uso de los diccionarios"
      ],
      "execution_count": null,
      "outputs": [
        {
          "output_type": "execute_result",
          "data": {
            "text/plain": [
              "0.8"
            ]
          },
          "metadata": {
            "tags": []
          },
          "execution_count": 10
        }
      ]
    },
    {
      "cell_type": "markdown",
      "metadata": {
        "id": "IpFMjOAl7ka_"
      },
      "source": [
        "### Series son también como diccionarios\n",
        "\n"
      ]
    },
    {
      "cell_type": "code",
      "metadata": {
        "id": "W0Pds4sD7ka_",
        "colab": {
          "base_uri": "https://localhost:8080/"
        },
        "outputId": "afe1e197-b89d-44ac-d12e-b5780884eae3"
      },
      "source": [
        "#diccionario con la población en 2020 para estados seleccionados\n",
        "\n",
        "poblacion_dict = {'Aguascalientes': 1425607\t,\n",
        "                   'Guanajuato': 6166934,\n",
        "                   'Jalisco': 8348151\t,\n",
        "                   'CDMX': 9209944,\n",
        "                   'Querétaro': 2368467}\n",
        "\n",
        "pob = pd.Series(poblacion_dict)\n",
        "pob"
      ],
      "execution_count": 13,
      "outputs": [
        {
          "output_type": "execute_result",
          "data": {
            "text/plain": [
              "Aguascalientes    1425607\n",
              "Guanajuato        6166934\n",
              "Jalisco           8348151\n",
              "CDMX              9209944\n",
              "Querétaro         2368467\n",
              "dtype: int64"
            ]
          },
          "metadata": {
            "tags": []
          },
          "execution_count": 13
        }
      ]
    },
    {
      "cell_type": "code",
      "metadata": {
        "id": "mlTM45pL7ka_",
        "colab": {
          "base_uri": "https://localhost:8080/"
        },
        "outputId": "6d96d6ee-e320-4b10-da49-0d8dad001b88"
      },
      "source": [
        "pob['Querétaro']"
      ],
      "execution_count": 14,
      "outputs": [
        {
          "output_type": "execute_result",
          "data": {
            "text/plain": [
              "2368467"
            ]
          },
          "metadata": {
            "tags": []
          },
          "execution_count": 14
        }
      ]
    },
    {
      "cell_type": "markdown",
      "metadata": {
        "id": "udW5W2037kbA"
      },
      "source": [
        "Con la ventaja de que podemos seleccionar una parte de los datos"
      ]
    },
    {
      "cell_type": "code",
      "metadata": {
        "id": "YFAHh_yK7kbA",
        "colab": {
          "base_uri": "https://localhost:8080/"
        },
        "outputId": "c5cbc460-9834-477e-90ea-b5dabe062f10"
      },
      "source": [
        "pob['Aguascalientes':'CDMX']"
      ],
      "execution_count": 16,
      "outputs": [
        {
          "output_type": "execute_result",
          "data": {
            "text/plain": [
              "Aguascalientes    1425607\n",
              "Guanajuato        6166934\n",
              "Jalisco           8348151\n",
              "CDMX              9209944\n",
              "dtype: int64"
            ]
          },
          "metadata": {
            "tags": []
          },
          "execution_count": 16
        }
      ]
    },
    {
      "cell_type": "markdown",
      "metadata": {
        "id": "H3p6Bzta-GTL"
      },
      "source": [
        "lo que no es posible hacer con los diccionarios"
      ]
    },
    {
      "cell_type": "code",
      "metadata": {
        "id": "lJoiJyhK9-W9",
        "outputId": "0b62e307-f084-4750-c9f9-8b41d4c47a50",
        "colab": {
          "base_uri": "https://localhost:8080/",
          "height": 167
        }
      },
      "source": [
        "poblacion_dict['Aguascalientes':'CDMX']  "
      ],
      "execution_count": 17,
      "outputs": [
        {
          "output_type": "error",
          "ename": "TypeError",
          "evalue": "ignored",
          "traceback": [
            "\u001b[0;31m---------------------------------------------------------------------------\u001b[0m",
            "\u001b[0;31mTypeError\u001b[0m                                 Traceback (most recent call last)",
            "\u001b[0;32m<ipython-input-17-9740b002a435>\u001b[0m in \u001b[0;36m<module>\u001b[0;34m()\u001b[0m\n\u001b[0;32m----> 1\u001b[0;31m \u001b[0mpoblacion_dict\u001b[0m\u001b[0;34m[\u001b[0m\u001b[0;34m'Aguascalientes'\u001b[0m\u001b[0;34m:\u001b[0m\u001b[0;34m'CDMX'\u001b[0m\u001b[0;34m]\u001b[0m\u001b[0;34m\u001b[0m\u001b[0;34m\u001b[0m\u001b[0m\n\u001b[0m",
            "\u001b[0;31mTypeError\u001b[0m: unhashable type: 'slice'"
          ]
        }
      ]
    },
    {
      "cell_type": "markdown",
      "metadata": {
        "id": "cxKpHzkv7kbA"
      },
      "source": [
        "### Más ejemplos de series"
      ]
    },
    {
      "cell_type": "code",
      "metadata": {
        "id": "nXeQtvd17kbB",
        "colab": {
          "base_uri": "https://localhost:8080/"
        },
        "outputId": "27858756-e844-433b-c29b-0c833d8996f8"
      },
      "source": [
        "pd.Series([2, 4, 6])"
      ],
      "execution_count": null,
      "outputs": [
        {
          "output_type": "execute_result",
          "data": {
            "text/plain": [
              "0    2\n",
              "1    4\n",
              "2    6\n",
              "dtype: int64"
            ]
          },
          "metadata": {
            "tags": []
          },
          "execution_count": 15
        }
      ]
    },
    {
      "cell_type": "code",
      "metadata": {
        "id": "7mCvH23G7kbB",
        "colab": {
          "base_uri": "https://localhost:8080/"
        },
        "outputId": "222b332a-8b5b-4275-bf94-38d287ccabdc"
      },
      "source": [
        "pd.Series(14, index=[150, 220, 380])"
      ],
      "execution_count": null,
      "outputs": [
        {
          "output_type": "execute_result",
          "data": {
            "text/plain": [
              "150    14\n",
              "220    14\n",
              "380    14\n",
              "dtype: int64"
            ]
          },
          "metadata": {
            "tags": []
          },
          "execution_count": 16
        }
      ]
    },
    {
      "cell_type": "code",
      "metadata": {
        "id": "XahFl4c37kbC",
        "colab": {
          "base_uri": "https://localhost:8080/"
        },
        "outputId": "34e364e0-6d12-4053-b0b4-b7f4b1649405"
      },
      "source": [
        "pd.Series({2:'a', 1:'b', 3:'c'})"
      ],
      "execution_count": null,
      "outputs": [
        {
          "output_type": "execute_result",
          "data": {
            "text/plain": [
              "2    a\n",
              "1    b\n",
              "3    c\n",
              "dtype: object"
            ]
          },
          "metadata": {
            "tags": []
          },
          "execution_count": 17
        }
      ]
    },
    {
      "cell_type": "markdown",
      "metadata": {
        "id": "wK1S09KY7kbD"
      },
      "source": [
        "##  DataFrame \n",
        "\n",
        "Igual que las ```Series```, un ```DataFrame``` se puede entender como una matriz de NumPy o como un diccionario, con ventajas adicionales"
      ]
    },
    {
      "cell_type": "code",
      "metadata": {
        "id": "rfIhG9EH7kbE"
      },
      "source": [
        "hombres_dic = {'Aguascalientes': 696683\t,  'Guanajuato': 2996454,\n",
        "               'Jalisco':4098455 , 'CDMX': 4404927, 'Querétaro': 1156820,\n",
        "               }"
      ],
      "execution_count": 40,
      "outputs": []
    },
    {
      "cell_type": "code",
      "metadata": {
        "id": "AcDL-biaBd-t",
        "outputId": "755a2ad7-381a-4705-9c73-2826a7e9b6dc",
        "colab": {
          "base_uri": "https://localhost:8080/",
          "height": 197
        }
      },
      "source": [
        "pd.DataFrame({'total': poblacion_dict,'hombres': hombres_dic}) # A partir de dos diccionarios"
      ],
      "execution_count": 41,
      "outputs": [
        {
          "output_type": "execute_result",
          "data": {
            "text/html": [
              "<div>\n",
              "<style scoped>\n",
              "    .dataframe tbody tr th:only-of-type {\n",
              "        vertical-align: middle;\n",
              "    }\n",
              "\n",
              "    .dataframe tbody tr th {\n",
              "        vertical-align: top;\n",
              "    }\n",
              "\n",
              "    .dataframe thead th {\n",
              "        text-align: right;\n",
              "    }\n",
              "</style>\n",
              "<table border=\"1\" class=\"dataframe\">\n",
              "  <thead>\n",
              "    <tr style=\"text-align: right;\">\n",
              "      <th></th>\n",
              "      <th>total</th>\n",
              "      <th>hombres</th>\n",
              "    </tr>\n",
              "  </thead>\n",
              "  <tbody>\n",
              "    <tr>\n",
              "      <th>Aguascalientes</th>\n",
              "      <td>1425607</td>\n",
              "      <td>696683</td>\n",
              "    </tr>\n",
              "    <tr>\n",
              "      <th>Guanajuato</th>\n",
              "      <td>6166934</td>\n",
              "      <td>2996454</td>\n",
              "    </tr>\n",
              "    <tr>\n",
              "      <th>Jalisco</th>\n",
              "      <td>8348151</td>\n",
              "      <td>4098455</td>\n",
              "    </tr>\n",
              "    <tr>\n",
              "      <th>CDMX</th>\n",
              "      <td>9209944</td>\n",
              "      <td>4404927</td>\n",
              "    </tr>\n",
              "    <tr>\n",
              "      <th>Querétaro</th>\n",
              "      <td>2368467</td>\n",
              "      <td>1156820</td>\n",
              "    </tr>\n",
              "  </tbody>\n",
              "</table>\n",
              "</div>"
            ],
            "text/plain": [
              "                  total  hombres\n",
              "Aguascalientes  1425607   696683\n",
              "Guanajuato      6166934  2996454\n",
              "Jalisco         8348151  4098455\n",
              "CDMX            9209944  4404927\n",
              "Querétaro       2368467  1156820"
            ]
          },
          "metadata": {
            "tags": []
          },
          "execution_count": 41
        }
      ]
    },
    {
      "cell_type": "markdown",
      "metadata": {
        "id": "sXXaPicaBjy6"
      },
      "source": [
        "guardamos el DataFrame con el nombre poblacion"
      ]
    },
    {
      "cell_type": "code",
      "metadata": {
        "id": "nItZodNl_jFg",
        "outputId": "0e36eb0b-cf3a-4294-d2b4-b403383410ea",
        "colab": {
          "base_uri": "https://localhost:8080/",
          "height": 197
        }
      },
      "source": [
        "poblacion = pd.DataFrame({'total': poblacion_dict,'hombres': hombres_dic}) \r\n",
        "poblacion"
      ],
      "execution_count": 42,
      "outputs": [
        {
          "output_type": "execute_result",
          "data": {
            "text/html": [
              "<div>\n",
              "<style scoped>\n",
              "    .dataframe tbody tr th:only-of-type {\n",
              "        vertical-align: middle;\n",
              "    }\n",
              "\n",
              "    .dataframe tbody tr th {\n",
              "        vertical-align: top;\n",
              "    }\n",
              "\n",
              "    .dataframe thead th {\n",
              "        text-align: right;\n",
              "    }\n",
              "</style>\n",
              "<table border=\"1\" class=\"dataframe\">\n",
              "  <thead>\n",
              "    <tr style=\"text-align: right;\">\n",
              "      <th></th>\n",
              "      <th>total</th>\n",
              "      <th>hombres</th>\n",
              "    </tr>\n",
              "  </thead>\n",
              "  <tbody>\n",
              "    <tr>\n",
              "      <th>Aguascalientes</th>\n",
              "      <td>1425607</td>\n",
              "      <td>696683</td>\n",
              "    </tr>\n",
              "    <tr>\n",
              "      <th>Guanajuato</th>\n",
              "      <td>6166934</td>\n",
              "      <td>2996454</td>\n",
              "    </tr>\n",
              "    <tr>\n",
              "      <th>Jalisco</th>\n",
              "      <td>8348151</td>\n",
              "      <td>4098455</td>\n",
              "    </tr>\n",
              "    <tr>\n",
              "      <th>CDMX</th>\n",
              "      <td>9209944</td>\n",
              "      <td>4404927</td>\n",
              "    </tr>\n",
              "    <tr>\n",
              "      <th>Querétaro</th>\n",
              "      <td>2368467</td>\n",
              "      <td>1156820</td>\n",
              "    </tr>\n",
              "  </tbody>\n",
              "</table>\n",
              "</div>"
            ],
            "text/plain": [
              "                  total  hombres\n",
              "Aguascalientes  1425607   696683\n",
              "Guanajuato      6166934  2996454\n",
              "Jalisco         8348151  4098455\n",
              "CDMX            9209944  4404927\n",
              "Querétaro       2368467  1156820"
            ]
          },
          "metadata": {
            "tags": []
          },
          "execution_count": 42
        }
      ]
    },
    {
      "cell_type": "markdown",
      "metadata": {
        "id": "Uud4X0hG7kbF"
      },
      "source": [
        "Un  ``DataFrame`` tiene además de los atributos ``values`` e ``index``, el atributo ``columns`` que es un índice que contiene las etiquetas de cada columna."
      ]
    },
    {
      "cell_type": "code",
      "metadata": {
        "id": "y7DTWCkaC4W8",
        "outputId": "a71a51c5-a38e-45d0-e029-74e89fb07c72",
        "colab": {
          "base_uri": "https://localhost:8080/"
        }
      },
      "source": [
        "poblacion.values   "
      ],
      "execution_count": 43,
      "outputs": [
        {
          "output_type": "execute_result",
          "data": {
            "text/plain": [
              "array([[1425607,  696683],\n",
              "       [6166934, 2996454],\n",
              "       [8348151, 4098455],\n",
              "       [9209944, 4404927],\n",
              "       [2368467, 1156820]])"
            ]
          },
          "metadata": {
            "tags": []
          },
          "execution_count": 43
        }
      ]
    },
    {
      "cell_type": "code",
      "metadata": {
        "id": "8tVP5zk4DMyK",
        "outputId": "45365bec-c0b5-4415-d95f-854f934c755c",
        "colab": {
          "base_uri": "https://localhost:8080/"
        }
      },
      "source": [
        "poblacion.index"
      ],
      "execution_count": 44,
      "outputs": [
        {
          "output_type": "execute_result",
          "data": {
            "text/plain": [
              "Index(['Aguascalientes', 'Guanajuato', 'Jalisco', 'CDMX', 'Querétaro'], dtype='object')"
            ]
          },
          "metadata": {
            "tags": []
          },
          "execution_count": 44
        }
      ]
    },
    {
      "cell_type": "code",
      "metadata": {
        "id": "WZWNi1P_7kbF",
        "colab": {
          "base_uri": "https://localhost:8080/"
        },
        "outputId": "e6028af8-3d6a-4e1f-9be3-e37a35d71fd2"
      },
      "source": [
        "poblacion.columns"
      ],
      "execution_count": 45,
      "outputs": [
        {
          "output_type": "execute_result",
          "data": {
            "text/plain": [
              "Index(['total', 'hombres'], dtype='object')"
            ]
          },
          "metadata": {
            "tags": []
          },
          "execution_count": 45
        }
      ]
    },
    {
      "cell_type": "markdown",
      "metadata": {
        "id": "2WVEvdRM7kbG"
      },
      "source": [
        "Los DataFrame son también una especie de diccionario donde las columnas actuan como claves\n"
      ]
    },
    {
      "cell_type": "code",
      "metadata": {
        "id": "tAz_MI5H7kbG",
        "colab": {
          "base_uri": "https://localhost:8080/"
        },
        "outputId": "0a9f3404-05ba-4e78-f21c-c9512f8ef4b1"
      },
      "source": [
        "poblacion['hombres']"
      ],
      "execution_count": 46,
      "outputs": [
        {
          "output_type": "execute_result",
          "data": {
            "text/plain": [
              "Aguascalientes     696683\n",
              "Guanajuato        2996454\n",
              "Jalisco           4098455\n",
              "CDMX              4404927\n",
              "Querétaro         1156820\n",
              "Name: hombres, dtype: int64"
            ]
          },
          "metadata": {
            "tags": []
          },
          "execution_count": 46
        }
      ]
    },
    {
      "cell_type": "markdown",
      "metadata": {
        "id": "kfkKq5KVJJ4T"
      },
      "source": [
        "pero no el índice (como ocurre para las Series)"
      ]
    },
    {
      "cell_type": "code",
      "metadata": {
        "id": "ubHtvLAhJEy0",
        "outputId": "2d10c8ec-20b8-4c26-88f9-3af65201ee3d",
        "colab": {
          "base_uri": "https://localhost:8080/",
          "height": 583
        }
      },
      "source": [
        "poblacion['Guanajuato']"
      ],
      "execution_count": 78,
      "outputs": [
        {
          "output_type": "error",
          "ename": "KeyError",
          "evalue": "ignored",
          "traceback": [
            "\u001b[0;31m---------------------------------------------------------------------------\u001b[0m",
            "\u001b[0;31mKeyError\u001b[0m                                  Traceback (most recent call last)",
            "\u001b[0;32m/usr/local/lib/python3.6/dist-packages/pandas/core/indexes/base.py\u001b[0m in \u001b[0;36mget_loc\u001b[0;34m(self, key, method, tolerance)\u001b[0m\n\u001b[1;32m   2897\u001b[0m             \u001b[0;32mtry\u001b[0m\u001b[0;34m:\u001b[0m\u001b[0;34m\u001b[0m\u001b[0;34m\u001b[0m\u001b[0m\n\u001b[0;32m-> 2898\u001b[0;31m                 \u001b[0;32mreturn\u001b[0m \u001b[0mself\u001b[0m\u001b[0;34m.\u001b[0m\u001b[0m_engine\u001b[0m\u001b[0;34m.\u001b[0m\u001b[0mget_loc\u001b[0m\u001b[0;34m(\u001b[0m\u001b[0mcasted_key\u001b[0m\u001b[0;34m)\u001b[0m\u001b[0;34m\u001b[0m\u001b[0;34m\u001b[0m\u001b[0m\n\u001b[0m\u001b[1;32m   2899\u001b[0m             \u001b[0;32mexcept\u001b[0m \u001b[0mKeyError\u001b[0m \u001b[0;32mas\u001b[0m \u001b[0merr\u001b[0m\u001b[0;34m:\u001b[0m\u001b[0;34m\u001b[0m\u001b[0;34m\u001b[0m\u001b[0m\n",
            "\u001b[0;32mpandas/_libs/index.pyx\u001b[0m in \u001b[0;36mpandas._libs.index.IndexEngine.get_loc\u001b[0;34m()\u001b[0m\n",
            "\u001b[0;32mpandas/_libs/index.pyx\u001b[0m in \u001b[0;36mpandas._libs.index.IndexEngine.get_loc\u001b[0;34m()\u001b[0m\n",
            "\u001b[0;32mpandas/_libs/hashtable_class_helper.pxi\u001b[0m in \u001b[0;36mpandas._libs.hashtable.PyObjectHashTable.get_item\u001b[0;34m()\u001b[0m\n",
            "\u001b[0;32mpandas/_libs/hashtable_class_helper.pxi\u001b[0m in \u001b[0;36mpandas._libs.hashtable.PyObjectHashTable.get_item\u001b[0;34m()\u001b[0m\n",
            "\u001b[0;31mKeyError\u001b[0m: 'Guanajuato'",
            "\nThe above exception was the direct cause of the following exception:\n",
            "\u001b[0;31mKeyError\u001b[0m                                  Traceback (most recent call last)",
            "\u001b[0;32m<ipython-input-78-466a388c8736>\u001b[0m in \u001b[0;36m<module>\u001b[0;34m()\u001b[0m\n\u001b[0;32m----> 1\u001b[0;31m \u001b[0mpoblacion\u001b[0m\u001b[0;34m[\u001b[0m\u001b[0;34m'Guanajuato'\u001b[0m\u001b[0;34m]\u001b[0m\u001b[0;34m\u001b[0m\u001b[0;34m\u001b[0m\u001b[0m\n\u001b[0m",
            "\u001b[0;32m/usr/local/lib/python3.6/dist-packages/pandas/core/frame.py\u001b[0m in \u001b[0;36m__getitem__\u001b[0;34m(self, key)\u001b[0m\n\u001b[1;32m   2904\u001b[0m             \u001b[0;32mif\u001b[0m \u001b[0mself\u001b[0m\u001b[0;34m.\u001b[0m\u001b[0mcolumns\u001b[0m\u001b[0;34m.\u001b[0m\u001b[0mnlevels\u001b[0m \u001b[0;34m>\u001b[0m \u001b[0;36m1\u001b[0m\u001b[0;34m:\u001b[0m\u001b[0;34m\u001b[0m\u001b[0;34m\u001b[0m\u001b[0m\n\u001b[1;32m   2905\u001b[0m                 \u001b[0;32mreturn\u001b[0m \u001b[0mself\u001b[0m\u001b[0;34m.\u001b[0m\u001b[0m_getitem_multilevel\u001b[0m\u001b[0;34m(\u001b[0m\u001b[0mkey\u001b[0m\u001b[0;34m)\u001b[0m\u001b[0;34m\u001b[0m\u001b[0;34m\u001b[0m\u001b[0m\n\u001b[0;32m-> 2906\u001b[0;31m             \u001b[0mindexer\u001b[0m \u001b[0;34m=\u001b[0m \u001b[0mself\u001b[0m\u001b[0;34m.\u001b[0m\u001b[0mcolumns\u001b[0m\u001b[0;34m.\u001b[0m\u001b[0mget_loc\u001b[0m\u001b[0;34m(\u001b[0m\u001b[0mkey\u001b[0m\u001b[0;34m)\u001b[0m\u001b[0;34m\u001b[0m\u001b[0;34m\u001b[0m\u001b[0m\n\u001b[0m\u001b[1;32m   2907\u001b[0m             \u001b[0;32mif\u001b[0m \u001b[0mis_integer\u001b[0m\u001b[0;34m(\u001b[0m\u001b[0mindexer\u001b[0m\u001b[0;34m)\u001b[0m\u001b[0;34m:\u001b[0m\u001b[0;34m\u001b[0m\u001b[0;34m\u001b[0m\u001b[0m\n\u001b[1;32m   2908\u001b[0m                 \u001b[0mindexer\u001b[0m \u001b[0;34m=\u001b[0m \u001b[0;34m[\u001b[0m\u001b[0mindexer\u001b[0m\u001b[0;34m]\u001b[0m\u001b[0;34m\u001b[0m\u001b[0;34m\u001b[0m\u001b[0m\n",
            "\u001b[0;32m/usr/local/lib/python3.6/dist-packages/pandas/core/indexes/base.py\u001b[0m in \u001b[0;36mget_loc\u001b[0;34m(self, key, method, tolerance)\u001b[0m\n\u001b[1;32m   2898\u001b[0m                 \u001b[0;32mreturn\u001b[0m \u001b[0mself\u001b[0m\u001b[0;34m.\u001b[0m\u001b[0m_engine\u001b[0m\u001b[0;34m.\u001b[0m\u001b[0mget_loc\u001b[0m\u001b[0;34m(\u001b[0m\u001b[0mcasted_key\u001b[0m\u001b[0;34m)\u001b[0m\u001b[0;34m\u001b[0m\u001b[0;34m\u001b[0m\u001b[0m\n\u001b[1;32m   2899\u001b[0m             \u001b[0;32mexcept\u001b[0m \u001b[0mKeyError\u001b[0m \u001b[0;32mas\u001b[0m \u001b[0merr\u001b[0m\u001b[0;34m:\u001b[0m\u001b[0;34m\u001b[0m\u001b[0;34m\u001b[0m\u001b[0m\n\u001b[0;32m-> 2900\u001b[0;31m                 \u001b[0;32mraise\u001b[0m \u001b[0mKeyError\u001b[0m\u001b[0;34m(\u001b[0m\u001b[0mkey\u001b[0m\u001b[0;34m)\u001b[0m \u001b[0;32mfrom\u001b[0m \u001b[0merr\u001b[0m\u001b[0;34m\u001b[0m\u001b[0;34m\u001b[0m\u001b[0m\n\u001b[0m\u001b[1;32m   2901\u001b[0m \u001b[0;34m\u001b[0m\u001b[0m\n\u001b[1;32m   2902\u001b[0m         \u001b[0;32mif\u001b[0m \u001b[0mtolerance\u001b[0m \u001b[0;32mis\u001b[0m \u001b[0;32mnot\u001b[0m \u001b[0;32mNone\u001b[0m\u001b[0;34m:\u001b[0m\u001b[0;34m\u001b[0m\u001b[0;34m\u001b[0m\u001b[0m\n",
            "\u001b[0;31mKeyError\u001b[0m: 'Guanajuato'"
          ]
        }
      ]
    },
    {
      "cell_type": "markdown",
      "metadata": {
        "id": "FjASuaB-dIbs"
      },
      "source": [
        "al igual que los diccionarios, podemos agregar nuevas claves , y al igual que en NumPy podemos hacer opercion de vectores sin necesidad de recurrir a ciclos for"
      ]
    },
    {
      "cell_type": "code",
      "metadata": {
        "colab": {
          "base_uri": "https://localhost:8080/",
          "height": 197
        },
        "id": "SuB18igpc-SW",
        "outputId": "de35e747-5871-4a02-dc82-b538e37ee529"
      },
      "source": [
        "poblacion['mujeres'] = poblacion['total'] - poblacion['hombres']\r\n",
        "poblacion"
      ],
      "execution_count": null,
      "outputs": [
        {
          "output_type": "execute_result",
          "data": {
            "text/html": [
              "<div>\n",
              "<style scoped>\n",
              "    .dataframe tbody tr th:only-of-type {\n",
              "        vertical-align: middle;\n",
              "    }\n",
              "\n",
              "    .dataframe tbody tr th {\n",
              "        vertical-align: top;\n",
              "    }\n",
              "\n",
              "    .dataframe thead th {\n",
              "        text-align: right;\n",
              "    }\n",
              "</style>\n",
              "<table border=\"1\" class=\"dataframe\">\n",
              "  <thead>\n",
              "    <tr style=\"text-align: right;\">\n",
              "      <th></th>\n",
              "      <th>total</th>\n",
              "      <th>hombres</th>\n",
              "      <th>mujeres</th>\n",
              "    </tr>\n",
              "  </thead>\n",
              "  <tbody>\n",
              "    <tr>\n",
              "      <th>Aguascalientes</th>\n",
              "      <td>608358</td>\n",
              "      <td>576638</td>\n",
              "      <td>31720</td>\n",
              "    </tr>\n",
              "    <tr>\n",
              "      <th>Guanajuato</th>\n",
              "      <td>5486372</td>\n",
              "      <td>2639425</td>\n",
              "      <td>2846947</td>\n",
              "    </tr>\n",
              "    <tr>\n",
              "      <th>Jalisco</th>\n",
              "      <td>7396986</td>\n",
              "      <td>3600641</td>\n",
              "      <td>3796345</td>\n",
              "    </tr>\n",
              "    <tr>\n",
              "      <th>CDMX</th>\n",
              "      <td>8851080</td>\n",
              "      <td>4233783</td>\n",
              "      <td>4617297</td>\n",
              "    </tr>\n",
              "    <tr>\n",
              "      <th>Querétaro</th>\n",
              "      <td>1827937</td>\n",
              "      <td>887188</td>\n",
              "      <td>940749</td>\n",
              "    </tr>\n",
              "  </tbody>\n",
              "</table>\n",
              "</div>"
            ],
            "text/plain": [
              "                  total  hombres  mujeres\n",
              "Aguascalientes   608358   576638    31720\n",
              "Guanajuato      5486372  2639425  2846947\n",
              "Jalisco         7396986  3600641  3796345\n",
              "CDMX            8851080  4233783  4617297\n",
              "Querétaro       1827937   887188   940749"
            ]
          },
          "metadata": {
            "tags": []
          },
          "execution_count": 22
        }
      ]
    },
    {
      "cell_type": "markdown",
      "metadata": {
        "id": "EtACFikw7kbG"
      },
      "source": [
        "### Creación de diccionarios a partir de distintos objetos\n",
        "\n"
      ]
    },
    {
      "cell_type": "markdown",
      "metadata": {
        "id": "LnSZ--Ds7kbG"
      },
      "source": [
        "#### Desde una o varias series"
      ]
    },
    {
      "cell_type": "code",
      "metadata": {
        "id": "dnS5p3b77kbH",
        "colab": {
          "base_uri": "https://localhost:8080/",
          "height": 197
        },
        "outputId": "706edce9-367e-41f2-e24c-f2b51b1f2861"
      },
      "source": [
        "pd.DataFrame(pob_h, columns=['poblacion_hombres'])"
      ],
      "execution_count": null,
      "outputs": [
        {
          "output_type": "execute_result",
          "data": {
            "text/html": [
              "<div>\n",
              "<style scoped>\n",
              "    .dataframe tbody tr th:only-of-type {\n",
              "        vertical-align: middle;\n",
              "    }\n",
              "\n",
              "    .dataframe tbody tr th {\n",
              "        vertical-align: top;\n",
              "    }\n",
              "\n",
              "    .dataframe thead th {\n",
              "        text-align: right;\n",
              "    }\n",
              "</style>\n",
              "<table border=\"1\" class=\"dataframe\">\n",
              "  <thead>\n",
              "    <tr style=\"text-align: right;\">\n",
              "      <th></th>\n",
              "      <th>poblacion_hombres</th>\n",
              "    </tr>\n",
              "  </thead>\n",
              "  <tbody>\n",
              "    <tr>\n",
              "      <th>Aguascalientes</th>\n",
              "      <td>576638</td>\n",
              "    </tr>\n",
              "    <tr>\n",
              "      <th>Guanajuato</th>\n",
              "      <td>2639425</td>\n",
              "    </tr>\n",
              "    <tr>\n",
              "      <th>Jalisco</th>\n",
              "      <td>3600641</td>\n",
              "    </tr>\n",
              "    <tr>\n",
              "      <th>CDMX</th>\n",
              "      <td>4233783</td>\n",
              "    </tr>\n",
              "    <tr>\n",
              "      <th>Querétaro</th>\n",
              "      <td>887188</td>\n",
              "    </tr>\n",
              "  </tbody>\n",
              "</table>\n",
              "</div>"
            ],
            "text/plain": [
              "                poblacion_hombres\n",
              "Aguascalientes             576638\n",
              "Guanajuato                2639425\n",
              "Jalisco                   3600641\n",
              "CDMX                      4233783\n",
              "Querétaro                  887188"
            ]
          },
          "metadata": {
            "tags": []
          },
          "execution_count": 52
        }
      ]
    },
    {
      "cell_type": "markdown",
      "metadata": {
        "id": "cFnAcZbKY0qS"
      },
      "source": [
        "#### Desde una diccionario"
      ]
    },
    {
      "cell_type": "code",
      "metadata": {
        "id": "_iGfArlW7kbH",
        "colab": {
          "base_uri": "https://localhost:8080/",
          "height": 197
        },
        "outputId": "f9382cab-9c92-429e-8f21-a18abea5a37a"
      },
      "source": [
        "dimensiones = [{'longitud': i, 'área': i*i} for i in range(5)]\n",
        "pd.DataFrame(dimensiones)"
      ],
      "execution_count": null,
      "outputs": [
        {
          "output_type": "execute_result",
          "data": {
            "text/html": [
              "<div>\n",
              "<style scoped>\n",
              "    .dataframe tbody tr th:only-of-type {\n",
              "        vertical-align: middle;\n",
              "    }\n",
              "\n",
              "    .dataframe tbody tr th {\n",
              "        vertical-align: top;\n",
              "    }\n",
              "\n",
              "    .dataframe thead th {\n",
              "        text-align: right;\n",
              "    }\n",
              "</style>\n",
              "<table border=\"1\" class=\"dataframe\">\n",
              "  <thead>\n",
              "    <tr style=\"text-align: right;\">\n",
              "      <th></th>\n",
              "      <th>longitud</th>\n",
              "      <th>área</th>\n",
              "    </tr>\n",
              "  </thead>\n",
              "  <tbody>\n",
              "    <tr>\n",
              "      <th>0</th>\n",
              "      <td>0</td>\n",
              "      <td>0</td>\n",
              "    </tr>\n",
              "    <tr>\n",
              "      <th>1</th>\n",
              "      <td>1</td>\n",
              "      <td>1</td>\n",
              "    </tr>\n",
              "    <tr>\n",
              "      <th>2</th>\n",
              "      <td>2</td>\n",
              "      <td>4</td>\n",
              "    </tr>\n",
              "    <tr>\n",
              "      <th>3</th>\n",
              "      <td>3</td>\n",
              "      <td>9</td>\n",
              "    </tr>\n",
              "    <tr>\n",
              "      <th>4</th>\n",
              "      <td>4</td>\n",
              "      <td>16</td>\n",
              "    </tr>\n",
              "  </tbody>\n",
              "</table>\n",
              "</div>"
            ],
            "text/plain": [
              "   longitud  área\n",
              "0         0     0\n",
              "1         1     1\n",
              "2         2     4\n",
              "3         3     9\n",
              "4         4    16"
            ]
          },
          "metadata": {
            "tags": []
          },
          "execution_count": 57
        }
      ]
    },
    {
      "cell_type": "markdown",
      "metadata": {
        "id": "p1OeJ5hj7kbJ"
      },
      "source": [
        "#### Desde una matriz de NumPy\n"
      ]
    },
    {
      "cell_type": "code",
      "metadata": {
        "id": "e3ZQAaur7kbJ",
        "colab": {
          "base_uri": "https://localhost:8080/",
          "height": 197
        },
        "outputId": "b04230ec-f97f-4946-ef67-822254c4997d"
      },
      "source": [
        "pd.DataFrame(np.random.rand(5, 3),\n",
        "             columns=['columna1', 'columna2','columna3'],\n",
        "             index=['a', 'b', 'c', 'd', 'e'])"
      ],
      "execution_count": null,
      "outputs": [
        {
          "output_type": "execute_result",
          "data": {
            "text/html": [
              "<div>\n",
              "<style scoped>\n",
              "    .dataframe tbody tr th:only-of-type {\n",
              "        vertical-align: middle;\n",
              "    }\n",
              "\n",
              "    .dataframe tbody tr th {\n",
              "        vertical-align: top;\n",
              "    }\n",
              "\n",
              "    .dataframe thead th {\n",
              "        text-align: right;\n",
              "    }\n",
              "</style>\n",
              "<table border=\"1\" class=\"dataframe\">\n",
              "  <thead>\n",
              "    <tr style=\"text-align: right;\">\n",
              "      <th></th>\n",
              "      <th>columna1</th>\n",
              "      <th>columna2</th>\n",
              "      <th>columna3</th>\n",
              "    </tr>\n",
              "  </thead>\n",
              "  <tbody>\n",
              "    <tr>\n",
              "      <th>a</th>\n",
              "      <td>0.815046</td>\n",
              "      <td>0.828736</td>\n",
              "      <td>0.466879</td>\n",
              "    </tr>\n",
              "    <tr>\n",
              "      <th>b</th>\n",
              "      <td>0.122835</td>\n",
              "      <td>0.229463</td>\n",
              "      <td>0.483728</td>\n",
              "    </tr>\n",
              "    <tr>\n",
              "      <th>c</th>\n",
              "      <td>0.807888</td>\n",
              "      <td>0.999082</td>\n",
              "      <td>0.541946</td>\n",
              "    </tr>\n",
              "    <tr>\n",
              "      <th>d</th>\n",
              "      <td>0.413675</td>\n",
              "      <td>0.853019</td>\n",
              "      <td>0.120638</td>\n",
              "    </tr>\n",
              "    <tr>\n",
              "      <th>e</th>\n",
              "      <td>0.465486</td>\n",
              "      <td>0.701128</td>\n",
              "      <td>0.744407</td>\n",
              "    </tr>\n",
              "  </tbody>\n",
              "</table>\n",
              "</div>"
            ],
            "text/plain": [
              "   columna1  columna2  columna3\n",
              "a  0.815046  0.828736  0.466879\n",
              "b  0.122835  0.229463  0.483728\n",
              "c  0.807888  0.999082  0.541946\n",
              "d  0.413675  0.853019  0.120638\n",
              "e  0.465486  0.701128  0.744407"
            ]
          },
          "metadata": {
            "tags": []
          },
          "execution_count": 58
        }
      ]
    },
    {
      "cell_type": "markdown",
      "metadata": {
        "id": "xyjiUgMedjcs"
      },
      "source": [
        "## Lectura de archivos csv como DataFrames"
      ]
    },
    {
      "cell_type": "code",
      "metadata": {
        "colab": {
          "base_uri": "https://localhost:8080/"
        },
        "id": "U_ZrQaiD7PYQ",
        "outputId": "64576f1d-68e5-46aa-ccb9-39d701ca3f16"
      },
      "source": [
        "#Leer datos mediante la función csv\n",
        "\n",
        "titanic = pd.read_csv(\"https://web.stanford.edu/class/archive/cs/cs109/cs109.1166/stuff/titanic.csv\")\n",
        "type(titanic)"
      ],
      "execution_count": 50,
      "outputs": [
        {
          "output_type": "execute_result",
          "data": {
            "text/plain": [
              "pandas.core.frame.DataFrame"
            ]
          },
          "metadata": {
            "tags": []
          },
          "execution_count": 50
        }
      ]
    },
    {
      "cell_type": "code",
      "metadata": {
        "colab": {
          "base_uri": "https://localhost:8080/",
          "height": 406
        },
        "id": "W8i3NniA7PYR",
        "outputId": "81a7bfdc-c0bf-452f-a41f-b21481456434"
      },
      "source": [
        "titanic"
      ],
      "execution_count": 51,
      "outputs": [
        {
          "output_type": "execute_result",
          "data": {
            "text/html": [
              "<div>\n",
              "<style scoped>\n",
              "    .dataframe tbody tr th:only-of-type {\n",
              "        vertical-align: middle;\n",
              "    }\n",
              "\n",
              "    .dataframe tbody tr th {\n",
              "        vertical-align: top;\n",
              "    }\n",
              "\n",
              "    .dataframe thead th {\n",
              "        text-align: right;\n",
              "    }\n",
              "</style>\n",
              "<table border=\"1\" class=\"dataframe\">\n",
              "  <thead>\n",
              "    <tr style=\"text-align: right;\">\n",
              "      <th></th>\n",
              "      <th>Survived</th>\n",
              "      <th>Pclass</th>\n",
              "      <th>Name</th>\n",
              "      <th>Sex</th>\n",
              "      <th>Age</th>\n",
              "      <th>Siblings/Spouses Aboard</th>\n",
              "      <th>Parents/Children Aboard</th>\n",
              "      <th>Fare</th>\n",
              "    </tr>\n",
              "  </thead>\n",
              "  <tbody>\n",
              "    <tr>\n",
              "      <th>0</th>\n",
              "      <td>0</td>\n",
              "      <td>3</td>\n",
              "      <td>Mr. Owen Harris Braund</td>\n",
              "      <td>male</td>\n",
              "      <td>22.0</td>\n",
              "      <td>1</td>\n",
              "      <td>0</td>\n",
              "      <td>7.2500</td>\n",
              "    </tr>\n",
              "    <tr>\n",
              "      <th>1</th>\n",
              "      <td>1</td>\n",
              "      <td>1</td>\n",
              "      <td>Mrs. John Bradley (Florence Briggs Thayer) Cum...</td>\n",
              "      <td>female</td>\n",
              "      <td>38.0</td>\n",
              "      <td>1</td>\n",
              "      <td>0</td>\n",
              "      <td>71.2833</td>\n",
              "    </tr>\n",
              "    <tr>\n",
              "      <th>2</th>\n",
              "      <td>1</td>\n",
              "      <td>3</td>\n",
              "      <td>Miss. Laina Heikkinen</td>\n",
              "      <td>female</td>\n",
              "      <td>26.0</td>\n",
              "      <td>0</td>\n",
              "      <td>0</td>\n",
              "      <td>7.9250</td>\n",
              "    </tr>\n",
              "    <tr>\n",
              "      <th>3</th>\n",
              "      <td>1</td>\n",
              "      <td>1</td>\n",
              "      <td>Mrs. Jacques Heath (Lily May Peel) Futrelle</td>\n",
              "      <td>female</td>\n",
              "      <td>35.0</td>\n",
              "      <td>1</td>\n",
              "      <td>0</td>\n",
              "      <td>53.1000</td>\n",
              "    </tr>\n",
              "    <tr>\n",
              "      <th>4</th>\n",
              "      <td>0</td>\n",
              "      <td>3</td>\n",
              "      <td>Mr. William Henry Allen</td>\n",
              "      <td>male</td>\n",
              "      <td>35.0</td>\n",
              "      <td>0</td>\n",
              "      <td>0</td>\n",
              "      <td>8.0500</td>\n",
              "    </tr>\n",
              "    <tr>\n",
              "      <th>...</th>\n",
              "      <td>...</td>\n",
              "      <td>...</td>\n",
              "      <td>...</td>\n",
              "      <td>...</td>\n",
              "      <td>...</td>\n",
              "      <td>...</td>\n",
              "      <td>...</td>\n",
              "      <td>...</td>\n",
              "    </tr>\n",
              "    <tr>\n",
              "      <th>882</th>\n",
              "      <td>0</td>\n",
              "      <td>2</td>\n",
              "      <td>Rev. Juozas Montvila</td>\n",
              "      <td>male</td>\n",
              "      <td>27.0</td>\n",
              "      <td>0</td>\n",
              "      <td>0</td>\n",
              "      <td>13.0000</td>\n",
              "    </tr>\n",
              "    <tr>\n",
              "      <th>883</th>\n",
              "      <td>1</td>\n",
              "      <td>1</td>\n",
              "      <td>Miss. Margaret Edith Graham</td>\n",
              "      <td>female</td>\n",
              "      <td>19.0</td>\n",
              "      <td>0</td>\n",
              "      <td>0</td>\n",
              "      <td>30.0000</td>\n",
              "    </tr>\n",
              "    <tr>\n",
              "      <th>884</th>\n",
              "      <td>0</td>\n",
              "      <td>3</td>\n",
              "      <td>Miss. Catherine Helen Johnston</td>\n",
              "      <td>female</td>\n",
              "      <td>7.0</td>\n",
              "      <td>1</td>\n",
              "      <td>2</td>\n",
              "      <td>23.4500</td>\n",
              "    </tr>\n",
              "    <tr>\n",
              "      <th>885</th>\n",
              "      <td>1</td>\n",
              "      <td>1</td>\n",
              "      <td>Mr. Karl Howell Behr</td>\n",
              "      <td>male</td>\n",
              "      <td>26.0</td>\n",
              "      <td>0</td>\n",
              "      <td>0</td>\n",
              "      <td>30.0000</td>\n",
              "    </tr>\n",
              "    <tr>\n",
              "      <th>886</th>\n",
              "      <td>0</td>\n",
              "      <td>3</td>\n",
              "      <td>Mr. Patrick Dooley</td>\n",
              "      <td>male</td>\n",
              "      <td>32.0</td>\n",
              "      <td>0</td>\n",
              "      <td>0</td>\n",
              "      <td>7.7500</td>\n",
              "    </tr>\n",
              "  </tbody>\n",
              "</table>\n",
              "<p>887 rows × 8 columns</p>\n",
              "</div>"
            ],
            "text/plain": [
              "     Survived  Pclass  ... Parents/Children Aboard     Fare\n",
              "0           0       3  ...                       0   7.2500\n",
              "1           1       1  ...                       0  71.2833\n",
              "2           1       3  ...                       0   7.9250\n",
              "3           1       1  ...                       0  53.1000\n",
              "4           0       3  ...                       0   8.0500\n",
              "..        ...     ...  ...                     ...      ...\n",
              "882         0       2  ...                       0  13.0000\n",
              "883         1       1  ...                       0  30.0000\n",
              "884         0       3  ...                       2  23.4500\n",
              "885         1       1  ...                       0  30.0000\n",
              "886         0       3  ...                       0   7.7500\n",
              "\n",
              "[887 rows x 8 columns]"
            ]
          },
          "metadata": {
            "tags": []
          },
          "execution_count": 51
        }
      ]
    },
    {
      "cell_type": "code",
      "metadata": {
        "colab": {
          "base_uri": "https://localhost:8080/",
          "height": 227
        },
        "id": "JX0CQobE7PYR",
        "outputId": "b7a9d862-215c-411d-e182-182f9572eb8c"
      },
      "source": [
        "titanic = titanic.set_index(\"Name\")\n",
        "titanic.head()"
      ],
      "execution_count": 52,
      "outputs": [
        {
          "output_type": "execute_result",
          "data": {
            "text/html": [
              "<div>\n",
              "<style scoped>\n",
              "    .dataframe tbody tr th:only-of-type {\n",
              "        vertical-align: middle;\n",
              "    }\n",
              "\n",
              "    .dataframe tbody tr th {\n",
              "        vertical-align: top;\n",
              "    }\n",
              "\n",
              "    .dataframe thead th {\n",
              "        text-align: right;\n",
              "    }\n",
              "</style>\n",
              "<table border=\"1\" class=\"dataframe\">\n",
              "  <thead>\n",
              "    <tr style=\"text-align: right;\">\n",
              "      <th></th>\n",
              "      <th>Survived</th>\n",
              "      <th>Pclass</th>\n",
              "      <th>Sex</th>\n",
              "      <th>Age</th>\n",
              "      <th>Siblings/Spouses Aboard</th>\n",
              "      <th>Parents/Children Aboard</th>\n",
              "      <th>Fare</th>\n",
              "    </tr>\n",
              "    <tr>\n",
              "      <th>Name</th>\n",
              "      <th></th>\n",
              "      <th></th>\n",
              "      <th></th>\n",
              "      <th></th>\n",
              "      <th></th>\n",
              "      <th></th>\n",
              "      <th></th>\n",
              "    </tr>\n",
              "  </thead>\n",
              "  <tbody>\n",
              "    <tr>\n",
              "      <th>Mr. Owen Harris Braund</th>\n",
              "      <td>0</td>\n",
              "      <td>3</td>\n",
              "      <td>male</td>\n",
              "      <td>22.0</td>\n",
              "      <td>1</td>\n",
              "      <td>0</td>\n",
              "      <td>7.2500</td>\n",
              "    </tr>\n",
              "    <tr>\n",
              "      <th>Mrs. John Bradley (Florence Briggs Thayer) Cumings</th>\n",
              "      <td>1</td>\n",
              "      <td>1</td>\n",
              "      <td>female</td>\n",
              "      <td>38.0</td>\n",
              "      <td>1</td>\n",
              "      <td>0</td>\n",
              "      <td>71.2833</td>\n",
              "    </tr>\n",
              "    <tr>\n",
              "      <th>Miss. Laina Heikkinen</th>\n",
              "      <td>1</td>\n",
              "      <td>3</td>\n",
              "      <td>female</td>\n",
              "      <td>26.0</td>\n",
              "      <td>0</td>\n",
              "      <td>0</td>\n",
              "      <td>7.9250</td>\n",
              "    </tr>\n",
              "    <tr>\n",
              "      <th>Mrs. Jacques Heath (Lily May Peel) Futrelle</th>\n",
              "      <td>1</td>\n",
              "      <td>1</td>\n",
              "      <td>female</td>\n",
              "      <td>35.0</td>\n",
              "      <td>1</td>\n",
              "      <td>0</td>\n",
              "      <td>53.1000</td>\n",
              "    </tr>\n",
              "    <tr>\n",
              "      <th>Mr. William Henry Allen</th>\n",
              "      <td>0</td>\n",
              "      <td>3</td>\n",
              "      <td>male</td>\n",
              "      <td>35.0</td>\n",
              "      <td>0</td>\n",
              "      <td>0</td>\n",
              "      <td>8.0500</td>\n",
              "    </tr>\n",
              "  </tbody>\n",
              "</table>\n",
              "</div>"
            ],
            "text/plain": [
              "                                                    Survived  ...     Fare\n",
              "Name                                                          ...         \n",
              "Mr. Owen Harris Braund                                     0  ...   7.2500\n",
              "Mrs. John Bradley (Florence Briggs Thayer) Cumings         1  ...  71.2833\n",
              "Miss. Laina Heikkinen                                      1  ...   7.9250\n",
              "Mrs. Jacques Heath (Lily May Peel) Futrelle                1  ...  53.1000\n",
              "Mr. William Henry Allen                                    0  ...   8.0500\n",
              "\n",
              "[5 rows x 7 columns]"
            ]
          },
          "metadata": {
            "tags": []
          },
          "execution_count": 52
        }
      ]
    },
    {
      "cell_type": "code",
      "metadata": {
        "colab": {
          "base_uri": "https://localhost:8080/"
        },
        "id": "xR7tYKnr7PYR",
        "outputId": "c2c24590-a7f0-4e14-f934-47010e8f99b5"
      },
      "source": [
        "titanic.columns\n"
      ],
      "execution_count": null,
      "outputs": [
        {
          "output_type": "stream",
          "text": [
            "Index(['Survived', 'Pclass', 'Sex', 'Age', 'Siblings/Spouses Aboard',\n",
            "       'Parents/Children Aboard', 'Fare'],\n",
            "      dtype='object')\n"
          ],
          "name": "stdout"
        }
      ]
    },
    {
      "cell_type": "code",
      "metadata": {
        "colab": {
          "base_uri": "https://localhost:8080/"
        },
        "id": "agBU06Fk7PYS",
        "outputId": "13ca7417-c77f-4616-a93b-6102dd11b4c8"
      },
      "source": [
        "titanic.index"
      ],
      "execution_count": null,
      "outputs": [
        {
          "output_type": "stream",
          "text": [
            "Index(['Mr. Owen Harris Braund',\n",
            "       'Mrs. John Bradley (Florence Briggs Thayer) Cumings',\n",
            "       'Miss. Laina Heikkinen', 'Mrs. Jacques Heath (Lily May Peel) Futrelle',\n",
            "       'Mr. William Henry Allen', 'Mr. James Moran', 'Mr. Timothy J McCarthy',\n",
            "       'Master. Gosta Leonard Palsson',\n",
            "       'Mrs. Oscar W (Elisabeth Vilhelmina Berg) Johnson',\n",
            "       'Mrs. Nicholas (Adele Achem) Nasser',\n",
            "       ...\n",
            "       'Mr. Johann Markun', 'Miss. Gerda Ulrika Dahlberg',\n",
            "       'Mr. Frederick James Banfield', 'Mr. Henry Jr Sutehall',\n",
            "       'Mrs. William (Margaret Norton) Rice', 'Rev. Juozas Montvila',\n",
            "       'Miss. Margaret Edith Graham', 'Miss. Catherine Helen Johnston',\n",
            "       'Mr. Karl Howell Behr', 'Mr. Patrick Dooley'],\n",
            "      dtype='object', name='Name', length=887)\n"
          ],
          "name": "stdout"
        }
      ]
    },
    {
      "cell_type": "code",
      "metadata": {
        "colab": {
          "base_uri": "https://localhost:8080/"
        },
        "id": "XYEetM7Y7PYS",
        "outputId": "c6c6f7b1-5308-4e90-b6fc-ceaeef7db3b6"
      },
      "source": [
        "## Una sola columna del datafreme es una Serie\n",
        "\n",
        "edad = titanic['Age']\n",
        "type(edad)"
      ],
      "execution_count": null,
      "outputs": [
        {
          "output_type": "execute_result",
          "data": {
            "text/plain": [
              "pandas.core.series.Series"
            ]
          },
          "metadata": {
            "tags": []
          },
          "execution_count": 28
        }
      ]
    },
    {
      "cell_type": "code",
      "metadata": {
        "colab": {
          "base_uri": "https://localhost:8080/"
        },
        "id": "-_OSQ1pu7PYS",
        "outputId": "6573c045-6c6e-4460-a1c8-5bd0092f6f27"
      },
      "source": [
        "edad"
      ],
      "execution_count": null,
      "outputs": [
        {
          "output_type": "execute_result",
          "data": {
            "text/plain": [
              "Name\n",
              "Mr. Owen Harris Braund                                22.0\n",
              "Mrs. John Bradley (Florence Briggs Thayer) Cumings    38.0\n",
              "Miss. Laina Heikkinen                                 26.0\n",
              "Mrs. Jacques Heath (Lily May Peel) Futrelle           35.0\n",
              "Mr. William Henry Allen                               35.0\n",
              "                                                      ... \n",
              "Rev. Juozas Montvila                                  27.0\n",
              "Miss. Margaret Edith Graham                           19.0\n",
              "Miss. Catherine Helen Johnston                         7.0\n",
              "Mr. Karl Howell Behr                                  26.0\n",
              "Mr. Patrick Dooley                                    32.0\n",
              "Name: Age, Length: 887, dtype: float64"
            ]
          },
          "metadata": {
            "tags": []
          },
          "execution_count": 29
        }
      ]
    },
    {
      "cell_type": "markdown",
      "metadata": {
        "id": "45lYapX97PYT"
      },
      "source": [
        "### Funciones, métodos y atributos .\n"
      ]
    },
    {
      "cell_type": "code",
      "metadata": {
        "id": "_nb_mQeT7PYU",
        "outputId": "28be378f-c7d1-4d69-ef61-f16a6d490177"
      },
      "source": [
        "titanic.info()  #regresa el numero de renglones, el número de columnas, los nombres de las columnas, \n",
        "                #la cantidad de datos faltanes, la clase de cada variable"
      ],
      "execution_count": null,
      "outputs": [
        {
          "output_type": "stream",
          "text": [
            "<class 'pandas.core.frame.DataFrame'>\n",
            "Index: 887 entries, Mr. Owen Harris Braund to Mr. Patrick Dooley\n",
            "Data columns (total 7 columns):\n",
            " #   Column                   Non-Null Count  Dtype  \n",
            "---  ------                   --------------  -----  \n",
            " 0   Survived                 887 non-null    int64  \n",
            " 1   Pclass                   887 non-null    int64  \n",
            " 2   Sex                      887 non-null    object \n",
            " 3   Age                      887 non-null    float64\n",
            " 4   Siblings/Spouses Aboard  887 non-null    int64  \n",
            " 5   Parents/Children Aboard  887 non-null    int64  \n",
            " 6   Fare                     887 non-null    float64\n",
            "dtypes: float64(2), int64(4), object(1)\n",
            "memory usage: 95.4+ KB\n"
          ],
          "name": "stdout"
        }
      ]
    },
    {
      "cell_type": "code",
      "metadata": {
        "colab": {
          "base_uri": "https://localhost:8080/",
          "height": 377
        },
        "id": "GQ2W81287PYU",
        "outputId": "ae9029c9-11b6-4953-c792-b59e23636d6b"
      },
      "source": [
        "titanic.describe(include='all')  "
      ],
      "execution_count": null,
      "outputs": [
        {
          "output_type": "execute_result",
          "data": {
            "text/html": [
              "<div>\n",
              "<style scoped>\n",
              "    .dataframe tbody tr th:only-of-type {\n",
              "        vertical-align: middle;\n",
              "    }\n",
              "\n",
              "    .dataframe tbody tr th {\n",
              "        vertical-align: top;\n",
              "    }\n",
              "\n",
              "    .dataframe thead th {\n",
              "        text-align: right;\n",
              "    }\n",
              "</style>\n",
              "<table border=\"1\" class=\"dataframe\">\n",
              "  <thead>\n",
              "    <tr style=\"text-align: right;\">\n",
              "      <th></th>\n",
              "      <th>Survived</th>\n",
              "      <th>Pclass</th>\n",
              "      <th>Sex</th>\n",
              "      <th>Age</th>\n",
              "      <th>Siblings/Spouses Aboard</th>\n",
              "      <th>Parents/Children Aboard</th>\n",
              "      <th>Fare</th>\n",
              "    </tr>\n",
              "  </thead>\n",
              "  <tbody>\n",
              "    <tr>\n",
              "      <th>count</th>\n",
              "      <td>887.000000</td>\n",
              "      <td>887.000000</td>\n",
              "      <td>887</td>\n",
              "      <td>887.000000</td>\n",
              "      <td>887.000000</td>\n",
              "      <td>887.000000</td>\n",
              "      <td>887.00000</td>\n",
              "    </tr>\n",
              "    <tr>\n",
              "      <th>unique</th>\n",
              "      <td>NaN</td>\n",
              "      <td>NaN</td>\n",
              "      <td>2</td>\n",
              "      <td>NaN</td>\n",
              "      <td>NaN</td>\n",
              "      <td>NaN</td>\n",
              "      <td>NaN</td>\n",
              "    </tr>\n",
              "    <tr>\n",
              "      <th>top</th>\n",
              "      <td>NaN</td>\n",
              "      <td>NaN</td>\n",
              "      <td>male</td>\n",
              "      <td>NaN</td>\n",
              "      <td>NaN</td>\n",
              "      <td>NaN</td>\n",
              "      <td>NaN</td>\n",
              "    </tr>\n",
              "    <tr>\n",
              "      <th>freq</th>\n",
              "      <td>NaN</td>\n",
              "      <td>NaN</td>\n",
              "      <td>573</td>\n",
              "      <td>NaN</td>\n",
              "      <td>NaN</td>\n",
              "      <td>NaN</td>\n",
              "      <td>NaN</td>\n",
              "    </tr>\n",
              "    <tr>\n",
              "      <th>mean</th>\n",
              "      <td>0.385569</td>\n",
              "      <td>2.305524</td>\n",
              "      <td>NaN</td>\n",
              "      <td>29.471443</td>\n",
              "      <td>0.525366</td>\n",
              "      <td>0.383315</td>\n",
              "      <td>32.30542</td>\n",
              "    </tr>\n",
              "    <tr>\n",
              "      <th>std</th>\n",
              "      <td>0.487004</td>\n",
              "      <td>0.836662</td>\n",
              "      <td>NaN</td>\n",
              "      <td>14.121908</td>\n",
              "      <td>1.104669</td>\n",
              "      <td>0.807466</td>\n",
              "      <td>49.78204</td>\n",
              "    </tr>\n",
              "    <tr>\n",
              "      <th>min</th>\n",
              "      <td>0.000000</td>\n",
              "      <td>1.000000</td>\n",
              "      <td>NaN</td>\n",
              "      <td>0.420000</td>\n",
              "      <td>0.000000</td>\n",
              "      <td>0.000000</td>\n",
              "      <td>0.00000</td>\n",
              "    </tr>\n",
              "    <tr>\n",
              "      <th>25%</th>\n",
              "      <td>0.000000</td>\n",
              "      <td>2.000000</td>\n",
              "      <td>NaN</td>\n",
              "      <td>20.250000</td>\n",
              "      <td>0.000000</td>\n",
              "      <td>0.000000</td>\n",
              "      <td>7.92500</td>\n",
              "    </tr>\n",
              "    <tr>\n",
              "      <th>50%</th>\n",
              "      <td>0.000000</td>\n",
              "      <td>3.000000</td>\n",
              "      <td>NaN</td>\n",
              "      <td>28.000000</td>\n",
              "      <td>0.000000</td>\n",
              "      <td>0.000000</td>\n",
              "      <td>14.45420</td>\n",
              "    </tr>\n",
              "    <tr>\n",
              "      <th>75%</th>\n",
              "      <td>1.000000</td>\n",
              "      <td>3.000000</td>\n",
              "      <td>NaN</td>\n",
              "      <td>38.000000</td>\n",
              "      <td>1.000000</td>\n",
              "      <td>0.000000</td>\n",
              "      <td>31.13750</td>\n",
              "    </tr>\n",
              "    <tr>\n",
              "      <th>max</th>\n",
              "      <td>1.000000</td>\n",
              "      <td>3.000000</td>\n",
              "      <td>NaN</td>\n",
              "      <td>80.000000</td>\n",
              "      <td>8.000000</td>\n",
              "      <td>6.000000</td>\n",
              "      <td>512.32920</td>\n",
              "    </tr>\n",
              "  </tbody>\n",
              "</table>\n",
              "</div>"
            ],
            "text/plain": [
              "          Survived      Pclass  ... Parents/Children Aboard       Fare\n",
              "count   887.000000  887.000000  ...              887.000000  887.00000\n",
              "unique         NaN         NaN  ...                     NaN        NaN\n",
              "top            NaN         NaN  ...                     NaN        NaN\n",
              "freq           NaN         NaN  ...                     NaN        NaN\n",
              "mean      0.385569    2.305524  ...                0.383315   32.30542\n",
              "std       0.487004    0.836662  ...                0.807466   49.78204\n",
              "min       0.000000    1.000000  ...                0.000000    0.00000\n",
              "25%       0.000000    2.000000  ...                0.000000    7.92500\n",
              "50%       0.000000    3.000000  ...                0.000000   14.45420\n",
              "75%       1.000000    3.000000  ...                0.000000   31.13750\n",
              "max       1.000000    3.000000  ...                6.000000  512.32920\n",
              "\n",
              "[11 rows x 7 columns]"
            ]
          },
          "metadata": {
            "tags": []
          },
          "execution_count": 31
        }
      ]
    },
    {
      "cell_type": "code",
      "metadata": {
        "colab": {
          "base_uri": "https://localhost:8080/"
        },
        "id": "kXnUvJRK7PYU",
        "outputId": "68471a5d-92c0-4375-a831-e1713741bafd"
      },
      "source": [
        "#ver la cantidad de renglones y de columnas utilizando el atributo shape\n",
        "print('dimensiones: ', titanic.shape)\n",
        "print('\\nrenglones: ', titanic.shape[0])\n",
        "print('columnas:  ', titanic.shape[1])"
      ],
      "execution_count": null,
      "outputs": [
        {
          "output_type": "stream",
          "text": [
            "dimensiones:  (887, 7)\n",
            "\n",
            "renglones:  887\n",
            "columnas:   7\n"
          ],
          "name": "stdout"
        }
      ]
    },
    {
      "cell_type": "code",
      "metadata": {
        "colab": {
          "base_uri": "https://localhost:8080/"
        },
        "id": "azfm3siq7PYU",
        "outputId": "e5d3bf02-de9e-44fb-e0a6-8bc0c64aa943"
      },
      "source": [
        "type(titanic.shape)"
      ],
      "execution_count": null,
      "outputs": [
        {
          "output_type": "execute_result",
          "data": {
            "text/plain": [
              "tuple"
            ]
          },
          "metadata": {
            "tags": []
          },
          "execution_count": 33
        }
      ]
    },
    {
      "cell_type": "code",
      "metadata": {
        "colab": {
          "base_uri": "https://localhost:8080/"
        },
        "id": "sBpAUUha7PYV",
        "outputId": "07a262d3-4a20-46e8-ff03-8d5f5229abff"
      },
      "source": [
        "#regresa el número de valores en cada variable \r\n",
        "titanic.nunique()  "
      ],
      "execution_count": null,
      "outputs": [
        {
          "output_type": "execute_result",
          "data": {
            "text/plain": [
              "Survived                     2\n",
              "Pclass                       3\n",
              "Sex                          2\n",
              "Age                         89\n",
              "Siblings/Spouses Aboard      7\n",
              "Parents/Children Aboard      7\n",
              "Fare                       248\n",
              "dtype: int64"
            ]
          },
          "metadata": {
            "tags": []
          },
          "execution_count": 34
        }
      ]
    },
    {
      "cell_type": "code",
      "metadata": {
        "colab": {
          "base_uri": "https://localhost:8080/"
        },
        "id": "zK6HxgRo7PYV",
        "outputId": "e0fea196-1f6c-4b06-8da5-f646fd361c89"
      },
      "source": [
        "titanic.columns"
      ],
      "execution_count": null,
      "outputs": [
        {
          "output_type": "execute_result",
          "data": {
            "text/plain": [
              "Index(['Survived', 'Pclass', 'Sex', 'Age', 'Siblings/Spouses Aboard',\n",
              "       'Parents/Children Aboard', 'Fare'],\n",
              "      dtype='object')"
            ]
          },
          "metadata": {
            "tags": []
          },
          "execution_count": 35
        }
      ]
    },
    {
      "cell_type": "markdown",
      "metadata": {
        "id": "Of70gt0uFxmc"
      },
      "source": [
        "Para conocer la distribución y los valores de cada columna utilizamos el método value_counts() que es un método para Series"
      ]
    },
    {
      "cell_type": "code",
      "metadata": {
        "id": "O3uxjnABGG2D",
        "outputId": "f21dfef8-048e-450a-9d2f-1a4e3ff0dd88",
        "colab": {
          "base_uri": "https://localhost:8080/"
        }
      },
      "source": [
        "titanic['Sex'].value_counts()"
      ],
      "execution_count": 55,
      "outputs": [
        {
          "output_type": "execute_result",
          "data": {
            "text/plain": [
              "male      573\n",
              "female    314\n",
              "Name: Sex, dtype: int64"
            ]
          },
          "metadata": {
            "tags": []
          },
          "execution_count": 55
        }
      ]
    },
    {
      "cell_type": "markdown",
      "metadata": {
        "id": "Ko0ZhsHCGYKT"
      },
      "source": [
        "Para hacer lo anterior con cada columna del data frame podemos iterar por cada una de las columnas"
      ]
    },
    {
      "cell_type": "code",
      "metadata": {
        "colab": {
          "base_uri": "https://localhost:8080/"
        },
        "id": "MLp6rQjq7PYV",
        "outputId": "a38ceca6-308f-444e-906b-217704066678"
      },
      "source": [
        "for column in titanic.columns:\n",
        "    print(titanic[column].value_counts(),'\\n')   \n",
        "    "
      ],
      "execution_count": null,
      "outputs": [
        {
          "output_type": "stream",
          "text": [
            "0    545\n",
            "1    342\n",
            "Name: Survived, dtype: int64 \n",
            "\n",
            "3    487\n",
            "1    216\n",
            "2    184\n",
            "Name: Pclass, dtype: int64 \n",
            "\n",
            "male      573\n",
            "female    314\n",
            "Name: Sex, dtype: int64 \n",
            "\n",
            "22.00    39\n",
            "28.00    37\n",
            "18.00    36\n",
            "21.00    34\n",
            "24.00    34\n",
            "         ..\n",
            "70.50     1\n",
            "36.50     1\n",
            "23.50     1\n",
            "55.50     1\n",
            "0.42      1\n",
            "Name: Age, Length: 89, dtype: int64 \n",
            "\n",
            "0    604\n",
            "1    209\n",
            "2     28\n",
            "4     18\n",
            "3     16\n",
            "8      7\n",
            "5      5\n",
            "Name: Siblings/Spouses Aboard, dtype: int64 \n",
            "\n",
            "0    674\n",
            "1    118\n",
            "2     80\n",
            "5      5\n",
            "3      5\n",
            "4      4\n",
            "6      1\n",
            "Name: Parents/Children Aboard, dtype: int64 \n",
            "\n",
            "8.0500     43\n",
            "13.0000    42\n",
            "7.8958     36\n",
            "7.7500     33\n",
            "26.0000    31\n",
            "           ..\n",
            "8.4583      1\n",
            "9.8375      1\n",
            "8.3625      1\n",
            "14.1083     1\n",
            "17.4000     1\n",
            "Name: Fare, Length: 248, dtype: int64 \n",
            "\n"
          ],
          "name": "stdout"
        }
      ]
    },
    {
      "cell_type": "markdown",
      "metadata": {
        "id": "BXI8jjvw7PYV"
      },
      "source": [
        "### Métodos para resumir en un solo valor información\n",
        "\n",
        "Producen un único valor relacionado con los datos a los que se aplica. Si no se especifica otra cosa se Pandas lo aplica resumiendo los valores de cada columna de un dataframe, si se quiere resumir las variables de cada renglón, se deberá especificar axis=1 entre los paréntesis.\n",
        "\n",
        "Algunos de ellos son:\n",
        "![image.png](attachment:image.png)"
      ]
    },
    {
      "cell_type": "code",
      "metadata": {
        "id": "snxMjEre7PYW",
        "outputId": "9f970316-22d4-4d8e-f46a-88a91891d9a8"
      },
      "source": [
        "titanic.mean()"
      ],
      "execution_count": null,
      "outputs": [
        {
          "output_type": "execute_result",
          "data": {
            "text/plain": [
              "Survived                    0.385569\n",
              "Pclass                      2.305524\n",
              "Age                        29.471443\n",
              "Siblings/Spouses Aboard     0.525366\n",
              "Parents/Children Aboard     0.383315\n",
              "Fare                       32.305420\n",
              "dtype: float64"
            ]
          },
          "metadata": {
            "tags": []
          },
          "execution_count": 19
        }
      ]
    },
    {
      "cell_type": "code",
      "metadata": {
        "id": "-fLqZsPi7PYW",
        "outputId": "aa333d19-5ffe-4775-fa8b-1e3af0e60e99"
      },
      "source": [
        "titanic.count()"
      ],
      "execution_count": null,
      "outputs": [
        {
          "output_type": "execute_result",
          "data": {
            "text/plain": [
              "Survived                   887\n",
              "Pclass                     887\n",
              "Sex                        887\n",
              "Age                        887\n",
              "Siblings/Spouses Aboard    887\n",
              "Parents/Children Aboard    887\n",
              "Fare                       887\n",
              "dtype: int64"
            ]
          },
          "metadata": {
            "tags": []
          },
          "execution_count": 20
        }
      ]
    },
    {
      "cell_type": "code",
      "metadata": {
        "colab": {
          "base_uri": "https://localhost:8080/",
          "height": 820
        },
        "id": "jz8q4Phq7PYW",
        "outputId": "a3cb2906-9b5e-4967-c9fa-f3fde60390b1"
      },
      "source": [
        "titanic.isnull()"
      ],
      "execution_count": 57,
      "outputs": [
        {
          "output_type": "execute_result",
          "data": {
            "text/html": [
              "<div>\n",
              "<style scoped>\n",
              "    .dataframe tbody tr th:only-of-type {\n",
              "        vertical-align: middle;\n",
              "    }\n",
              "\n",
              "    .dataframe tbody tr th {\n",
              "        vertical-align: top;\n",
              "    }\n",
              "\n",
              "    .dataframe thead th {\n",
              "        text-align: right;\n",
              "    }\n",
              "</style>\n",
              "<table border=\"1\" class=\"dataframe\">\n",
              "  <thead>\n",
              "    <tr style=\"text-align: right;\">\n",
              "      <th></th>\n",
              "      <th>Survived</th>\n",
              "      <th>Pclass</th>\n",
              "      <th>Sex</th>\n",
              "      <th>Age</th>\n",
              "      <th>Siblings/Spouses Aboard</th>\n",
              "      <th>Parents/Children Aboard</th>\n",
              "      <th>Fare</th>\n",
              "    </tr>\n",
              "    <tr>\n",
              "      <th>Name</th>\n",
              "      <th></th>\n",
              "      <th></th>\n",
              "      <th></th>\n",
              "      <th></th>\n",
              "      <th></th>\n",
              "      <th></th>\n",
              "      <th></th>\n",
              "    </tr>\n",
              "  </thead>\n",
              "  <tbody>\n",
              "    <tr>\n",
              "      <th>Mr. Owen Harris Braund</th>\n",
              "      <td>False</td>\n",
              "      <td>False</td>\n",
              "      <td>False</td>\n",
              "      <td>False</td>\n",
              "      <td>False</td>\n",
              "      <td>False</td>\n",
              "      <td>False</td>\n",
              "    </tr>\n",
              "    <tr>\n",
              "      <th>Mrs. John Bradley (Florence Briggs Thayer) Cumings</th>\n",
              "      <td>False</td>\n",
              "      <td>False</td>\n",
              "      <td>False</td>\n",
              "      <td>False</td>\n",
              "      <td>False</td>\n",
              "      <td>False</td>\n",
              "      <td>False</td>\n",
              "    </tr>\n",
              "    <tr>\n",
              "      <th>Miss. Laina Heikkinen</th>\n",
              "      <td>False</td>\n",
              "      <td>False</td>\n",
              "      <td>False</td>\n",
              "      <td>False</td>\n",
              "      <td>False</td>\n",
              "      <td>False</td>\n",
              "      <td>False</td>\n",
              "    </tr>\n",
              "    <tr>\n",
              "      <th>Mrs. Jacques Heath (Lily May Peel) Futrelle</th>\n",
              "      <td>False</td>\n",
              "      <td>False</td>\n",
              "      <td>False</td>\n",
              "      <td>False</td>\n",
              "      <td>False</td>\n",
              "      <td>False</td>\n",
              "      <td>False</td>\n",
              "    </tr>\n",
              "    <tr>\n",
              "      <th>Mr. William Henry Allen</th>\n",
              "      <td>False</td>\n",
              "      <td>False</td>\n",
              "      <td>False</td>\n",
              "      <td>False</td>\n",
              "      <td>False</td>\n",
              "      <td>False</td>\n",
              "      <td>False</td>\n",
              "    </tr>\n",
              "    <tr>\n",
              "      <th>...</th>\n",
              "      <td>...</td>\n",
              "      <td>...</td>\n",
              "      <td>...</td>\n",
              "      <td>...</td>\n",
              "      <td>...</td>\n",
              "      <td>...</td>\n",
              "      <td>...</td>\n",
              "    </tr>\n",
              "    <tr>\n",
              "      <th>Rev. Juozas Montvila</th>\n",
              "      <td>False</td>\n",
              "      <td>False</td>\n",
              "      <td>False</td>\n",
              "      <td>False</td>\n",
              "      <td>False</td>\n",
              "      <td>False</td>\n",
              "      <td>False</td>\n",
              "    </tr>\n",
              "    <tr>\n",
              "      <th>Miss. Margaret Edith Graham</th>\n",
              "      <td>False</td>\n",
              "      <td>False</td>\n",
              "      <td>False</td>\n",
              "      <td>False</td>\n",
              "      <td>False</td>\n",
              "      <td>False</td>\n",
              "      <td>False</td>\n",
              "    </tr>\n",
              "    <tr>\n",
              "      <th>Miss. Catherine Helen Johnston</th>\n",
              "      <td>False</td>\n",
              "      <td>False</td>\n",
              "      <td>False</td>\n",
              "      <td>False</td>\n",
              "      <td>False</td>\n",
              "      <td>False</td>\n",
              "      <td>False</td>\n",
              "    </tr>\n",
              "    <tr>\n",
              "      <th>Mr. Karl Howell Behr</th>\n",
              "      <td>False</td>\n",
              "      <td>False</td>\n",
              "      <td>False</td>\n",
              "      <td>False</td>\n",
              "      <td>False</td>\n",
              "      <td>False</td>\n",
              "      <td>False</td>\n",
              "    </tr>\n",
              "    <tr>\n",
              "      <th>Mr. Patrick Dooley</th>\n",
              "      <td>False</td>\n",
              "      <td>False</td>\n",
              "      <td>False</td>\n",
              "      <td>False</td>\n",
              "      <td>False</td>\n",
              "      <td>False</td>\n",
              "      <td>False</td>\n",
              "    </tr>\n",
              "  </tbody>\n",
              "</table>\n",
              "<p>887 rows × 7 columns</p>\n",
              "</div>"
            ],
            "text/plain": [
              "                                                    Survived  ...   Fare\n",
              "Name                                                          ...       \n",
              "Mr. Owen Harris Braund                                 False  ...  False\n",
              "Mrs. John Bradley (Florence Briggs Thayer) Cumings     False  ...  False\n",
              "Miss. Laina Heikkinen                                  False  ...  False\n",
              "Mrs. Jacques Heath (Lily May Peel) Futrelle            False  ...  False\n",
              "Mr. William Henry Allen                                False  ...  False\n",
              "...                                                      ...  ...    ...\n",
              "Rev. Juozas Montvila                                   False  ...  False\n",
              "Miss. Margaret Edith Graham                            False  ...  False\n",
              "Miss. Catherine Helen Johnston                         False  ...  False\n",
              "Mr. Karl Howell Behr                                   False  ...  False\n",
              "Mr. Patrick Dooley                                     False  ...  False\n",
              "\n",
              "[887 rows x 7 columns]"
            ]
          },
          "metadata": {
            "tags": []
          },
          "execution_count": 57
        }
      ]
    },
    {
      "cell_type": "code",
      "metadata": {
        "colab": {
          "base_uri": "https://localhost:8080/"
        },
        "id": "8sAAw0iA7PYW",
        "outputId": "abca108f-a495-4860-b246-40309637da83"
      },
      "source": [
        "titanic.isnull().sum()"
      ],
      "execution_count": 56,
      "outputs": [
        {
          "output_type": "execute_result",
          "data": {
            "text/plain": [
              "Survived                   0\n",
              "Pclass                     0\n",
              "Sex                        0\n",
              "Age                        0\n",
              "Siblings/Spouses Aboard    0\n",
              "Parents/Children Aboard    0\n",
              "Fare                       0\n",
              "dtype: int64"
            ]
          },
          "metadata": {
            "tags": []
          },
          "execution_count": 56
        }
      ]
    },
    {
      "cell_type": "code",
      "metadata": {
        "id": "LJ2C2_tRfkzl",
        "colab": {
          "base_uri": "https://localhost:8080/"
        },
        "outputId": "60aed60b-e360-41bc-c860-00b3edcdc54a"
      },
      "source": [
        "print('\\n',titanic.isnull().sum(axis=1))"
      ],
      "execution_count": null,
      "outputs": [
        {
          "output_type": "stream",
          "text": [
            "\n",
            " Name\n",
            "Mr. Owen Harris Braund                                0\n",
            "Mrs. John Bradley (Florence Briggs Thayer) Cumings    0\n",
            "Miss. Laina Heikkinen                                 0\n",
            "Mrs. Jacques Heath (Lily May Peel) Futrelle           0\n",
            "Mr. William Henry Allen                               0\n",
            "                                                     ..\n",
            "Rev. Juozas Montvila                                  0\n",
            "Miss. Margaret Edith Graham                           0\n",
            "Miss. Catherine Helen Johnston                        0\n",
            "Mr. Karl Howell Behr                                  0\n",
            "Mr. Patrick Dooley                                    0\n",
            "Length: 887, dtype: int64\n"
          ],
          "name": "stdout"
        }
      ]
    },
    {
      "cell_type": "markdown",
      "metadata": {
        "id": "72gL6URq7PYX"
      },
      "source": [
        "## Acceso a los datos usando etiquetas o posiciones"
      ]
    },
    {
      "cell_type": "markdown",
      "metadata": {
        "id": "Lc34WYpd7PYX"
      },
      "source": [
        "Acceso a los datos utilizando etiquetas de las columnas\n",
        "\n",
        "Las siguientes expresiones son equivalentes:\n",
        "- titanic['Age'] \n",
        "- titanic.Age  \n",
        "\n",
        "En la segunda forma, se asume que cada columna es un atributo del DataFrame"
      ]
    },
    {
      "cell_type": "code",
      "metadata": {
        "id": "zZNEs6Dz7PYX",
        "outputId": "2bba1090-aff2-48b4-bd39-827784e27e25",
        "colab": {
          "base_uri": "https://localhost:8080/"
        }
      },
      "source": [
        "print(type(titanic['Age']), '\\n')\r\n",
        "titanic['Age'] "
      ],
      "execution_count": 90,
      "outputs": [
        {
          "output_type": "stream",
          "text": [
            "<class 'pandas.core.series.Series'> \n",
            "\n"
          ],
          "name": "stdout"
        },
        {
          "output_type": "execute_result",
          "data": {
            "text/plain": [
              "Name\n",
              "Mr. Owen Harris Braund                                22.0\n",
              "Mrs. John Bradley (Florence Briggs Thayer) Cumings    38.0\n",
              "Miss. Laina Heikkinen                                 26.0\n",
              "Mrs. Jacques Heath (Lily May Peel) Futrelle           35.0\n",
              "Mr. William Henry Allen                               35.0\n",
              "                                                      ... \n",
              "Rev. Juozas Montvila                                  27.0\n",
              "Miss. Margaret Edith Graham                           19.0\n",
              "Miss. Catherine Helen Johnston                         7.0\n",
              "Mr. Karl Howell Behr                                  26.0\n",
              "Mr. Patrick Dooley                                    32.0\n",
              "Name: Age, Length: 887, dtype: float64"
            ]
          },
          "metadata": {
            "tags": []
          },
          "execution_count": 90
        }
      ]
    },
    {
      "cell_type": "code",
      "metadata": {
        "id": "yK0bDrYBK0F8",
        "outputId": "d839d715-7b34-4330-c5ee-a45eb6eb2a36",
        "colab": {
          "base_uri": "https://localhost:8080/"
        }
      },
      "source": [
        "print(type(titanic.Age), '\\n')\r\n",
        "titanic.Age"
      ],
      "execution_count": 91,
      "outputs": [
        {
          "output_type": "stream",
          "text": [
            "<class 'pandas.core.series.Series'> \n",
            "\n"
          ],
          "name": "stdout"
        },
        {
          "output_type": "execute_result",
          "data": {
            "text/plain": [
              "Name\n",
              "Mr. Owen Harris Braund                                22.0\n",
              "Mrs. John Bradley (Florence Briggs Thayer) Cumings    38.0\n",
              "Miss. Laina Heikkinen                                 26.0\n",
              "Mrs. Jacques Heath (Lily May Peel) Futrelle           35.0\n",
              "Mr. William Henry Allen                               35.0\n",
              "                                                      ... \n",
              "Rev. Juozas Montvila                                  27.0\n",
              "Miss. Margaret Edith Graham                           19.0\n",
              "Miss. Catherine Helen Johnston                         7.0\n",
              "Mr. Karl Howell Behr                                  26.0\n",
              "Mr. Patrick Dooley                                    32.0\n",
              "Name: Age, Length: 887, dtype: float64"
            ]
          },
          "metadata": {
            "tags": []
          },
          "execution_count": 91
        }
      ]
    },
    {
      "cell_type": "markdown",
      "metadata": {
        "id": "WlH5Gcp8NPpa"
      },
      "source": [
        "podemos llamar a dos o más columnas juntas, agrupandolas en una lista"
      ]
    },
    {
      "cell_type": "code",
      "metadata": {
        "id": "OGZb8jP-NOeK",
        "outputId": "141c282d-3574-4ec4-d7a0-9d76d26d614a",
        "colab": {
          "base_uri": "https://localhost:8080/",
          "height": 436
        }
      },
      "source": [
        "titanic[['Survived','Sex']]"
      ],
      "execution_count": 94,
      "outputs": [
        {
          "output_type": "execute_result",
          "data": {
            "text/html": [
              "<div>\n",
              "<style scoped>\n",
              "    .dataframe tbody tr th:only-of-type {\n",
              "        vertical-align: middle;\n",
              "    }\n",
              "\n",
              "    .dataframe tbody tr th {\n",
              "        vertical-align: top;\n",
              "    }\n",
              "\n",
              "    .dataframe thead th {\n",
              "        text-align: right;\n",
              "    }\n",
              "</style>\n",
              "<table border=\"1\" class=\"dataframe\">\n",
              "  <thead>\n",
              "    <tr style=\"text-align: right;\">\n",
              "      <th></th>\n",
              "      <th>Survived</th>\n",
              "      <th>Sex</th>\n",
              "    </tr>\n",
              "    <tr>\n",
              "      <th>Name</th>\n",
              "      <th></th>\n",
              "      <th></th>\n",
              "    </tr>\n",
              "  </thead>\n",
              "  <tbody>\n",
              "    <tr>\n",
              "      <th>Mr. Owen Harris Braund</th>\n",
              "      <td>0</td>\n",
              "      <td>male</td>\n",
              "    </tr>\n",
              "    <tr>\n",
              "      <th>Mrs. John Bradley (Florence Briggs Thayer) Cumings</th>\n",
              "      <td>1</td>\n",
              "      <td>female</td>\n",
              "    </tr>\n",
              "    <tr>\n",
              "      <th>Miss. Laina Heikkinen</th>\n",
              "      <td>1</td>\n",
              "      <td>female</td>\n",
              "    </tr>\n",
              "    <tr>\n",
              "      <th>Mrs. Jacques Heath (Lily May Peel) Futrelle</th>\n",
              "      <td>1</td>\n",
              "      <td>female</td>\n",
              "    </tr>\n",
              "    <tr>\n",
              "      <th>Mr. William Henry Allen</th>\n",
              "      <td>0</td>\n",
              "      <td>male</td>\n",
              "    </tr>\n",
              "    <tr>\n",
              "      <th>...</th>\n",
              "      <td>...</td>\n",
              "      <td>...</td>\n",
              "    </tr>\n",
              "    <tr>\n",
              "      <th>Rev. Juozas Montvila</th>\n",
              "      <td>0</td>\n",
              "      <td>male</td>\n",
              "    </tr>\n",
              "    <tr>\n",
              "      <th>Miss. Margaret Edith Graham</th>\n",
              "      <td>1</td>\n",
              "      <td>female</td>\n",
              "    </tr>\n",
              "    <tr>\n",
              "      <th>Miss. Catherine Helen Johnston</th>\n",
              "      <td>0</td>\n",
              "      <td>female</td>\n",
              "    </tr>\n",
              "    <tr>\n",
              "      <th>Mr. Karl Howell Behr</th>\n",
              "      <td>1</td>\n",
              "      <td>male</td>\n",
              "    </tr>\n",
              "    <tr>\n",
              "      <th>Mr. Patrick Dooley</th>\n",
              "      <td>0</td>\n",
              "      <td>male</td>\n",
              "    </tr>\n",
              "  </tbody>\n",
              "</table>\n",
              "<p>887 rows × 2 columns</p>\n",
              "</div>"
            ],
            "text/plain": [
              "                                                    Survived     Sex\n",
              "Name                                                                \n",
              "Mr. Owen Harris Braund                                     0    male\n",
              "Mrs. John Bradley (Florence Briggs Thayer) Cumings         1  female\n",
              "Miss. Laina Heikkinen                                      1  female\n",
              "Mrs. Jacques Heath (Lily May Peel) Futrelle                1  female\n",
              "Mr. William Henry Allen                                    0    male\n",
              "...                                                      ...     ...\n",
              "Rev. Juozas Montvila                                       0    male\n",
              "Miss. Margaret Edith Graham                                1  female\n",
              "Miss. Catherine Helen Johnston                             0  female\n",
              "Mr. Karl Howell Behr                                       1    male\n",
              "Mr. Patrick Dooley                                         0    male\n",
              "\n",
              "[887 rows x 2 columns]"
            ]
          },
          "metadata": {
            "tags": []
          },
          "execution_count": 94
        }
      ]
    },
    {
      "cell_type": "markdown",
      "metadata": {
        "id": "iO7nK54cJoCq"
      },
      "source": [
        "Para los renglones, hemos dicho que no se puede usar el índice como si fuera la clave de un diccionario"
      ]
    },
    {
      "cell_type": "code",
      "metadata": {
        "id": "Q5EbZvEEJzLa",
        "outputId": "40667322-4a37-4157-8a0b-e9a1e7ce76a6",
        "colab": {
          "base_uri": "https://localhost:8080/",
          "height": 370
        }
      },
      "source": [
        "titanic['Miss. Laina Heikkinen']"
      ],
      "execution_count": 93,
      "outputs": [
        {
          "output_type": "error",
          "ename": "KeyError",
          "evalue": "ignored",
          "traceback": [
            "\u001b[0;31m---------------------------------------------------------------------------\u001b[0m",
            "\u001b[0;31mKeyError\u001b[0m                                  Traceback (most recent call last)",
            "\u001b[0;32m<ipython-input-93-43eaa4c3165e>\u001b[0m in \u001b[0;36m<module>\u001b[0;34m()\u001b[0m\n\u001b[0;32m----> 1\u001b[0;31m \u001b[0mtitanic\u001b[0m\u001b[0;34m[\u001b[0m\u001b[0;34m[\u001b[0m\u001b[0;34m'Miss. Laina Heikkinen'\u001b[0m\u001b[0;34m]\u001b[0m\u001b[0;34m]\u001b[0m\u001b[0;34m\u001b[0m\u001b[0;34m\u001b[0m\u001b[0m\n\u001b[0m",
            "\u001b[0;32m/usr/local/lib/python3.6/dist-packages/pandas/core/frame.py\u001b[0m in \u001b[0;36m__getitem__\u001b[0;34m(self, key)\u001b[0m\n\u001b[1;32m   2910\u001b[0m             \u001b[0;32mif\u001b[0m \u001b[0mis_iterator\u001b[0m\u001b[0;34m(\u001b[0m\u001b[0mkey\u001b[0m\u001b[0;34m)\u001b[0m\u001b[0;34m:\u001b[0m\u001b[0;34m\u001b[0m\u001b[0;34m\u001b[0m\u001b[0m\n\u001b[1;32m   2911\u001b[0m                 \u001b[0mkey\u001b[0m \u001b[0;34m=\u001b[0m \u001b[0mlist\u001b[0m\u001b[0;34m(\u001b[0m\u001b[0mkey\u001b[0m\u001b[0;34m)\u001b[0m\u001b[0;34m\u001b[0m\u001b[0;34m\u001b[0m\u001b[0m\n\u001b[0;32m-> 2912\u001b[0;31m             \u001b[0mindexer\u001b[0m \u001b[0;34m=\u001b[0m \u001b[0mself\u001b[0m\u001b[0;34m.\u001b[0m\u001b[0mloc\u001b[0m\u001b[0;34m.\u001b[0m\u001b[0m_get_listlike_indexer\u001b[0m\u001b[0;34m(\u001b[0m\u001b[0mkey\u001b[0m\u001b[0;34m,\u001b[0m \u001b[0maxis\u001b[0m\u001b[0;34m=\u001b[0m\u001b[0;36m1\u001b[0m\u001b[0;34m,\u001b[0m \u001b[0mraise_missing\u001b[0m\u001b[0;34m=\u001b[0m\u001b[0;32mTrue\u001b[0m\u001b[0;34m)\u001b[0m\u001b[0;34m[\u001b[0m\u001b[0;36m1\u001b[0m\u001b[0;34m]\u001b[0m\u001b[0;34m\u001b[0m\u001b[0;34m\u001b[0m\u001b[0m\n\u001b[0m\u001b[1;32m   2913\u001b[0m \u001b[0;34m\u001b[0m\u001b[0m\n\u001b[1;32m   2914\u001b[0m         \u001b[0;31m# take() does not accept boolean indexers\u001b[0m\u001b[0;34m\u001b[0m\u001b[0;34m\u001b[0m\u001b[0;34m\u001b[0m\u001b[0m\n",
            "\u001b[0;32m/usr/local/lib/python3.6/dist-packages/pandas/core/indexing.py\u001b[0m in \u001b[0;36m_get_listlike_indexer\u001b[0;34m(self, key, axis, raise_missing)\u001b[0m\n\u001b[1;32m   1252\u001b[0m             \u001b[0mkeyarr\u001b[0m\u001b[0;34m,\u001b[0m \u001b[0mindexer\u001b[0m\u001b[0;34m,\u001b[0m \u001b[0mnew_indexer\u001b[0m \u001b[0;34m=\u001b[0m \u001b[0max\u001b[0m\u001b[0;34m.\u001b[0m\u001b[0m_reindex_non_unique\u001b[0m\u001b[0;34m(\u001b[0m\u001b[0mkeyarr\u001b[0m\u001b[0;34m)\u001b[0m\u001b[0;34m\u001b[0m\u001b[0;34m\u001b[0m\u001b[0m\n\u001b[1;32m   1253\u001b[0m \u001b[0;34m\u001b[0m\u001b[0m\n\u001b[0;32m-> 1254\u001b[0;31m         \u001b[0mself\u001b[0m\u001b[0;34m.\u001b[0m\u001b[0m_validate_read_indexer\u001b[0m\u001b[0;34m(\u001b[0m\u001b[0mkeyarr\u001b[0m\u001b[0;34m,\u001b[0m \u001b[0mindexer\u001b[0m\u001b[0;34m,\u001b[0m \u001b[0maxis\u001b[0m\u001b[0;34m,\u001b[0m \u001b[0mraise_missing\u001b[0m\u001b[0;34m=\u001b[0m\u001b[0mraise_missing\u001b[0m\u001b[0;34m)\u001b[0m\u001b[0;34m\u001b[0m\u001b[0;34m\u001b[0m\u001b[0m\n\u001b[0m\u001b[1;32m   1255\u001b[0m         \u001b[0;32mreturn\u001b[0m \u001b[0mkeyarr\u001b[0m\u001b[0;34m,\u001b[0m \u001b[0mindexer\u001b[0m\u001b[0;34m\u001b[0m\u001b[0;34m\u001b[0m\u001b[0m\n\u001b[1;32m   1256\u001b[0m \u001b[0;34m\u001b[0m\u001b[0m\n",
            "\u001b[0;32m/usr/local/lib/python3.6/dist-packages/pandas/core/indexing.py\u001b[0m in \u001b[0;36m_validate_read_indexer\u001b[0;34m(self, key, indexer, axis, raise_missing)\u001b[0m\n\u001b[1;32m   1296\u001b[0m             \u001b[0;32mif\u001b[0m \u001b[0mmissing\u001b[0m \u001b[0;34m==\u001b[0m \u001b[0mlen\u001b[0m\u001b[0;34m(\u001b[0m\u001b[0mindexer\u001b[0m\u001b[0;34m)\u001b[0m\u001b[0;34m:\u001b[0m\u001b[0;34m\u001b[0m\u001b[0;34m\u001b[0m\u001b[0m\n\u001b[1;32m   1297\u001b[0m                 \u001b[0maxis_name\u001b[0m \u001b[0;34m=\u001b[0m \u001b[0mself\u001b[0m\u001b[0;34m.\u001b[0m\u001b[0mobj\u001b[0m\u001b[0;34m.\u001b[0m\u001b[0m_get_axis_name\u001b[0m\u001b[0;34m(\u001b[0m\u001b[0maxis\u001b[0m\u001b[0;34m)\u001b[0m\u001b[0;34m\u001b[0m\u001b[0;34m\u001b[0m\u001b[0m\n\u001b[0;32m-> 1298\u001b[0;31m                 \u001b[0;32mraise\u001b[0m \u001b[0mKeyError\u001b[0m\u001b[0;34m(\u001b[0m\u001b[0;34mf\"None of [{key}] are in the [{axis_name}]\"\u001b[0m\u001b[0;34m)\u001b[0m\u001b[0;34m\u001b[0m\u001b[0;34m\u001b[0m\u001b[0m\n\u001b[0m\u001b[1;32m   1299\u001b[0m \u001b[0;34m\u001b[0m\u001b[0m\n\u001b[1;32m   1300\u001b[0m             \u001b[0;31m# We (temporarily) allow for some missing keys with .loc, except in\u001b[0m\u001b[0;34m\u001b[0m\u001b[0;34m\u001b[0m\u001b[0;34m\u001b[0m\u001b[0m\n",
            "\u001b[0;31mKeyError\u001b[0m: \"None of [Index(['Miss. Laina Heikkinen'], dtype='object')] are in the [columns]\""
          ]
        }
      ]
    },
    {
      "cell_type": "markdown",
      "metadata": {
        "id": "Lkequ5-zMCrg"
      },
      "source": [
        "### Propiedad **`loc[]`** \r\n",
        "\r\n",
        "Se utiliza **`df.loc[renglones:columnas]`**  para tener acceso a los datos usando etiquetas"
      ]
    },
    {
      "cell_type": "markdown",
      "metadata": {
        "id": "txjm85kcLW27"
      },
      "source": [
        "Podemos utilizar esta propiedad de los DataFrames para llamar a un solo renglón"
      ]
    },
    {
      "cell_type": "code",
      "metadata": {
        "id": "-hXj9n6i7PYY",
        "outputId": "ca29c2ce-dbbf-4754-8498-7dec802426be",
        "colab": {
          "base_uri": "https://localhost:8080/"
        }
      },
      "source": [
        "titanic.loc['Miss. Laina Heikkinen']  "
      ],
      "execution_count": 84,
      "outputs": [
        {
          "output_type": "execute_result",
          "data": {
            "text/plain": [
              "Survived                        1\n",
              "Pclass                          3\n",
              "Sex                        female\n",
              "Age                            26\n",
              "Siblings/Spouses Aboard         0\n",
              "Parents/Children Aboard         0\n",
              "Fare                        7.925\n",
              "Name: Miss. Laina Heikkinen, dtype: object"
            ]
          },
          "metadata": {
            "tags": []
          },
          "execution_count": 84
        }
      ]
    },
    {
      "cell_type": "markdown",
      "metadata": {
        "id": "x9UBROtxM0cl"
      },
      "source": [
        "O varios renglones, agrupandolos en una lista"
      ]
    },
    {
      "cell_type": "code",
      "metadata": {
        "id": "annalItzM686",
        "outputId": "2ab191ad-118e-41c9-bd3b-8a3f79faa941",
        "colab": {
          "base_uri": "https://localhost:8080/",
          "height": 221
        }
      },
      "source": [
        "titanic.loc[['Miss. Laina Heikkinen','Mr. Timothy J McCarthy']]  "
      ],
      "execution_count": 98,
      "outputs": [
        {
          "output_type": "execute_result",
          "data": {
            "text/html": [
              "<div>\n",
              "<style scoped>\n",
              "    .dataframe tbody tr th:only-of-type {\n",
              "        vertical-align: middle;\n",
              "    }\n",
              "\n",
              "    .dataframe tbody tr th {\n",
              "        vertical-align: top;\n",
              "    }\n",
              "\n",
              "    .dataframe thead th {\n",
              "        text-align: right;\n",
              "    }\n",
              "</style>\n",
              "<table border=\"1\" class=\"dataframe\">\n",
              "  <thead>\n",
              "    <tr style=\"text-align: right;\">\n",
              "      <th></th>\n",
              "      <th>Survived</th>\n",
              "      <th>Pclass</th>\n",
              "      <th>Sex</th>\n",
              "      <th>Age</th>\n",
              "      <th>Siblings/Spouses Aboard</th>\n",
              "      <th>Parents/Children Aboard</th>\n",
              "      <th>Fare</th>\n",
              "    </tr>\n",
              "    <tr>\n",
              "      <th>Name</th>\n",
              "      <th></th>\n",
              "      <th></th>\n",
              "      <th></th>\n",
              "      <th></th>\n",
              "      <th></th>\n",
              "      <th></th>\n",
              "      <th></th>\n",
              "    </tr>\n",
              "  </thead>\n",
              "  <tbody>\n",
              "    <tr>\n",
              "      <th>Miss. Laina Heikkinen</th>\n",
              "      <td>1</td>\n",
              "      <td>3</td>\n",
              "      <td>female</td>\n",
              "      <td>26.0</td>\n",
              "      <td>0</td>\n",
              "      <td>0</td>\n",
              "      <td>7.9250</td>\n",
              "    </tr>\n",
              "    <tr>\n",
              "      <th>Mr. Timothy J McCarthy</th>\n",
              "      <td>0</td>\n",
              "      <td>1</td>\n",
              "      <td>male</td>\n",
              "      <td>54.0</td>\n",
              "      <td>0</td>\n",
              "      <td>0</td>\n",
              "      <td>51.8625</td>\n",
              "    </tr>\n",
              "  </tbody>\n",
              "</table>\n",
              "</div>"
            ],
            "text/plain": [
              "                        Survived  Pclass  ... Parents/Children Aboard     Fare\n",
              "Name                                      ...                                 \n",
              "Miss. Laina Heikkinen          1       3  ...                       0   7.9250\n",
              "Mr. Timothy J McCarthy         0       1  ...                       0  51.8625\n",
              "\n",
              "[2 rows x 7 columns]"
            ]
          },
          "metadata": {
            "tags": []
          },
          "execution_count": 98
        }
      ]
    },
    {
      "cell_type": "markdown",
      "metadata": {
        "id": "PTBfkMOFN6sT"
      },
      "source": [
        "o un grupo de renglones y columnas"
      ]
    },
    {
      "cell_type": "code",
      "metadata": {
        "id": "cVu3NDtWNkhr",
        "outputId": "8ed86123-a6d8-42e2-bb19-258bae52e3f8",
        "colab": {
          "base_uri": "https://localhost:8080/",
          "height": 137
        }
      },
      "source": [
        "titanic.loc[['Miss. Laina Heikkinen','Mr. Timothy J McCarthy'], ['Survived','Age']]"
      ],
      "execution_count": 99,
      "outputs": [
        {
          "output_type": "execute_result",
          "data": {
            "text/html": [
              "<div>\n",
              "<style scoped>\n",
              "    .dataframe tbody tr th:only-of-type {\n",
              "        vertical-align: middle;\n",
              "    }\n",
              "\n",
              "    .dataframe tbody tr th {\n",
              "        vertical-align: top;\n",
              "    }\n",
              "\n",
              "    .dataframe thead th {\n",
              "        text-align: right;\n",
              "    }\n",
              "</style>\n",
              "<table border=\"1\" class=\"dataframe\">\n",
              "  <thead>\n",
              "    <tr style=\"text-align: right;\">\n",
              "      <th></th>\n",
              "      <th>Survived</th>\n",
              "      <th>Age</th>\n",
              "    </tr>\n",
              "    <tr>\n",
              "      <th>Name</th>\n",
              "      <th></th>\n",
              "      <th></th>\n",
              "    </tr>\n",
              "  </thead>\n",
              "  <tbody>\n",
              "    <tr>\n",
              "      <th>Miss. Laina Heikkinen</th>\n",
              "      <td>1</td>\n",
              "      <td>26.0</td>\n",
              "    </tr>\n",
              "    <tr>\n",
              "      <th>Mr. Timothy J McCarthy</th>\n",
              "      <td>0</td>\n",
              "      <td>54.0</td>\n",
              "    </tr>\n",
              "  </tbody>\n",
              "</table>\n",
              "</div>"
            ],
            "text/plain": [
              "                        Survived   Age\n",
              "Name                                  \n",
              "Miss. Laina Heikkinen          1  26.0\n",
              "Mr. Timothy J McCarthy         0  54.0"
            ]
          },
          "metadata": {
            "tags": []
          },
          "execution_count": 99
        }
      ]
    },
    {
      "cell_type": "markdown",
      "metadata": {
        "id": "KUNE35WxOHMh"
      },
      "source": [
        "o utilizar '*slicing*'"
      ]
    },
    {
      "cell_type": "code",
      "metadata": {
        "id": "irbs-FKB7PYZ",
        "colab": {
          "base_uri": "https://localhost:8080/",
          "height": 227
        },
        "outputId": "c522313c-2eae-40c7-eb11-8706bee5cbc5"
      },
      "source": [
        "titanic.loc['Miss. Laina Heikkinen':'Mr. Timothy J McCarthy', 'Survived':'Age']  "
      ],
      "execution_count": 100,
      "outputs": [
        {
          "output_type": "execute_result",
          "data": {
            "text/html": [
              "<div>\n",
              "<style scoped>\n",
              "    .dataframe tbody tr th:only-of-type {\n",
              "        vertical-align: middle;\n",
              "    }\n",
              "\n",
              "    .dataframe tbody tr th {\n",
              "        vertical-align: top;\n",
              "    }\n",
              "\n",
              "    .dataframe thead th {\n",
              "        text-align: right;\n",
              "    }\n",
              "</style>\n",
              "<table border=\"1\" class=\"dataframe\">\n",
              "  <thead>\n",
              "    <tr style=\"text-align: right;\">\n",
              "      <th></th>\n",
              "      <th>Survived</th>\n",
              "      <th>Pclass</th>\n",
              "      <th>Sex</th>\n",
              "      <th>Age</th>\n",
              "    </tr>\n",
              "    <tr>\n",
              "      <th>Name</th>\n",
              "      <th></th>\n",
              "      <th></th>\n",
              "      <th></th>\n",
              "      <th></th>\n",
              "    </tr>\n",
              "  </thead>\n",
              "  <tbody>\n",
              "    <tr>\n",
              "      <th>Miss. Laina Heikkinen</th>\n",
              "      <td>1</td>\n",
              "      <td>3</td>\n",
              "      <td>female</td>\n",
              "      <td>26.0</td>\n",
              "    </tr>\n",
              "    <tr>\n",
              "      <th>Mrs. Jacques Heath (Lily May Peel) Futrelle</th>\n",
              "      <td>1</td>\n",
              "      <td>1</td>\n",
              "      <td>female</td>\n",
              "      <td>35.0</td>\n",
              "    </tr>\n",
              "    <tr>\n",
              "      <th>Mr. William Henry Allen</th>\n",
              "      <td>0</td>\n",
              "      <td>3</td>\n",
              "      <td>male</td>\n",
              "      <td>35.0</td>\n",
              "    </tr>\n",
              "    <tr>\n",
              "      <th>Mr. James Moran</th>\n",
              "      <td>0</td>\n",
              "      <td>3</td>\n",
              "      <td>male</td>\n",
              "      <td>27.0</td>\n",
              "    </tr>\n",
              "    <tr>\n",
              "      <th>Mr. Timothy J McCarthy</th>\n",
              "      <td>0</td>\n",
              "      <td>1</td>\n",
              "      <td>male</td>\n",
              "      <td>54.0</td>\n",
              "    </tr>\n",
              "  </tbody>\n",
              "</table>\n",
              "</div>"
            ],
            "text/plain": [
              "                                             Survived  Pclass     Sex   Age\n",
              "Name                                                                       \n",
              "Miss. Laina Heikkinen                               1       3  female  26.0\n",
              "Mrs. Jacques Heath (Lily May Peel) Futrelle         1       1  female  35.0\n",
              "Mr. William Henry Allen                             0       3    male  35.0\n",
              "Mr. James Moran                                     0       3    male  27.0\n",
              "Mr. Timothy J McCarthy                              0       1    male  54.0"
            ]
          },
          "metadata": {
            "tags": []
          },
          "execution_count": 100
        }
      ]
    },
    {
      "cell_type": "code",
      "metadata": {
        "id": "oBfGpZFr7PYZ",
        "outputId": "7e4e2a2a-958e-4f55-ea9f-ff28011c798e",
        "colab": {
          "base_uri": "https://localhost:8080/"
        }
      },
      "source": [
        "titanic.loc[:,'Age']"
      ],
      "execution_count": 101,
      "outputs": [
        {
          "output_type": "execute_result",
          "data": {
            "text/plain": [
              "Name\n",
              "Mr. Owen Harris Braund                                22.0\n",
              "Mrs. John Bradley (Florence Briggs Thayer) Cumings    38.0\n",
              "Miss. Laina Heikkinen                                 26.0\n",
              "Mrs. Jacques Heath (Lily May Peel) Futrelle           35.0\n",
              "Mr. William Henry Allen                               35.0\n",
              "                                                      ... \n",
              "Rev. Juozas Montvila                                  27.0\n",
              "Miss. Margaret Edith Graham                           19.0\n",
              "Miss. Catherine Helen Johnston                         7.0\n",
              "Mr. Karl Howell Behr                                  26.0\n",
              "Mr. Patrick Dooley                                    32.0\n",
              "Name: Age, Length: 887, dtype: float64"
            ]
          },
          "metadata": {
            "tags": []
          },
          "execution_count": 101
        }
      ]
    },
    {
      "cell_type": "markdown",
      "metadata": {
        "id": "q_IAXNwR7PYZ"
      },
      "source": [
        "### Propiedad **`iloc[]`** para acceder mediante posiciones\r\n",
        "\r\n",
        "\r\n",
        "Se utiliza **`df.iloc[row, column]`**, para  usar las posiciones de un valor"
      ]
    },
    {
      "cell_type": "code",
      "metadata": {
        "id": "A3zohS5w7PYZ",
        "outputId": "d5850867-fb3d-4d18-95ce-a4ca4bd72abb",
        "colab": {
          "base_uri": "https://localhost:8080/",
          "height": 287
        }
      },
      "source": [
        "titanic.iloc[15:22,3:5]  "
      ],
      "execution_count": 104,
      "outputs": [
        {
          "output_type": "execute_result",
          "data": {
            "text/html": [
              "<div>\n",
              "<style scoped>\n",
              "    .dataframe tbody tr th:only-of-type {\n",
              "        vertical-align: middle;\n",
              "    }\n",
              "\n",
              "    .dataframe tbody tr th {\n",
              "        vertical-align: top;\n",
              "    }\n",
              "\n",
              "    .dataframe thead th {\n",
              "        text-align: right;\n",
              "    }\n",
              "</style>\n",
              "<table border=\"1\" class=\"dataframe\">\n",
              "  <thead>\n",
              "    <tr style=\"text-align: right;\">\n",
              "      <th></th>\n",
              "      <th>Age</th>\n",
              "      <th>Siblings/Spouses Aboard</th>\n",
              "    </tr>\n",
              "    <tr>\n",
              "      <th>Name</th>\n",
              "      <th></th>\n",
              "      <th></th>\n",
              "    </tr>\n",
              "  </thead>\n",
              "  <tbody>\n",
              "    <tr>\n",
              "      <th>Mrs. (Mary D Kingcome) Hewlett</th>\n",
              "      <td>55.0</td>\n",
              "      <td>0</td>\n",
              "    </tr>\n",
              "    <tr>\n",
              "      <th>Master. Eugene Rice</th>\n",
              "      <td>2.0</td>\n",
              "      <td>4</td>\n",
              "    </tr>\n",
              "    <tr>\n",
              "      <th>Mr. Charles Eugene Williams</th>\n",
              "      <td>23.0</td>\n",
              "      <td>0</td>\n",
              "    </tr>\n",
              "    <tr>\n",
              "      <th>Mrs. Julius (Emelia Maria Vandemoortele) Vander Planke</th>\n",
              "      <td>31.0</td>\n",
              "      <td>1</td>\n",
              "    </tr>\n",
              "    <tr>\n",
              "      <th>Mrs. Fatima Masselmani</th>\n",
              "      <td>22.0</td>\n",
              "      <td>0</td>\n",
              "    </tr>\n",
              "    <tr>\n",
              "      <th>Mr. Joseph J Fynney</th>\n",
              "      <td>35.0</td>\n",
              "      <td>0</td>\n",
              "    </tr>\n",
              "    <tr>\n",
              "      <th>Mr. Lawrence Beesley</th>\n",
              "      <td>34.0</td>\n",
              "      <td>0</td>\n",
              "    </tr>\n",
              "  </tbody>\n",
              "</table>\n",
              "</div>"
            ],
            "text/plain": [
              "                                                     Age  Siblings/Spouses Aboard\n",
              "Name                                                                             \n",
              "Mrs. (Mary D Kingcome) Hewlett                      55.0                        0\n",
              "Master. Eugene Rice                                  2.0                        4\n",
              "Mr. Charles Eugene Williams                         23.0                        0\n",
              "Mrs. Julius (Emelia Maria Vandemoortele) Vander...  31.0                        1\n",
              "Mrs. Fatima Masselmani                              22.0                        0\n",
              "Mr. Joseph J Fynney                                 35.0                        0\n",
              "Mr. Lawrence Beesley                                34.0                        0"
            ]
          },
          "metadata": {
            "tags": []
          },
          "execution_count": 104
        }
      ]
    },
    {
      "cell_type": "code",
      "metadata": {
        "id": "8ox3kVZQP8AD",
        "outputId": "e5c8cde2-9567-4ed2-b5e1-51e7c68e3025",
        "colab": {
          "base_uri": "https://localhost:8080/",
          "height": 137
        }
      },
      "source": [
        "titanic.iloc[[15,22],[3,5]]  "
      ],
      "execution_count": 105,
      "outputs": [
        {
          "output_type": "execute_result",
          "data": {
            "text/html": [
              "<div>\n",
              "<style scoped>\n",
              "    .dataframe tbody tr th:only-of-type {\n",
              "        vertical-align: middle;\n",
              "    }\n",
              "\n",
              "    .dataframe tbody tr th {\n",
              "        vertical-align: top;\n",
              "    }\n",
              "\n",
              "    .dataframe thead th {\n",
              "        text-align: right;\n",
              "    }\n",
              "</style>\n",
              "<table border=\"1\" class=\"dataframe\">\n",
              "  <thead>\n",
              "    <tr style=\"text-align: right;\">\n",
              "      <th></th>\n",
              "      <th>Age</th>\n",
              "      <th>Parents/Children Aboard</th>\n",
              "    </tr>\n",
              "    <tr>\n",
              "      <th>Name</th>\n",
              "      <th></th>\n",
              "      <th></th>\n",
              "    </tr>\n",
              "  </thead>\n",
              "  <tbody>\n",
              "    <tr>\n",
              "      <th>Mrs. (Mary D Kingcome) Hewlett</th>\n",
              "      <td>55.0</td>\n",
              "      <td>0</td>\n",
              "    </tr>\n",
              "    <tr>\n",
              "      <th>Miss. Anna McGowan</th>\n",
              "      <td>15.0</td>\n",
              "      <td>0</td>\n",
              "    </tr>\n",
              "  </tbody>\n",
              "</table>\n",
              "</div>"
            ],
            "text/plain": [
              "                                 Age  Parents/Children Aboard\n",
              "Name                                                         \n",
              "Mrs. (Mary D Kingcome) Hewlett  55.0                        0\n",
              "Miss. Anna McGowan              15.0                        0"
            ]
          },
          "metadata": {
            "tags": []
          },
          "execution_count": 105
        }
      ]
    },
    {
      "cell_type": "markdown",
      "metadata": {
        "id": "xc02IHfH7PYa"
      },
      "source": [
        "## Filtrado de datos"
      ]
    },
    {
      "cell_type": "code",
      "metadata": {
        "id": "6gI3itvP7PYa",
        "outputId": "50a266af-2378-4832-9bbe-42dd071328af"
      },
      "source": [
        "filtro = titanic['Pclass']==3\n",
        "\n",
        "tercera = titanic[filtro]\n",
        "tercera.head(10)"
      ],
      "execution_count": null,
      "outputs": [
        {
          "output_type": "execute_result",
          "data": {
            "text/html": [
              "<div>\n",
              "<style scoped>\n",
              "    .dataframe tbody tr th:only-of-type {\n",
              "        vertical-align: middle;\n",
              "    }\n",
              "\n",
              "    .dataframe tbody tr th {\n",
              "        vertical-align: top;\n",
              "    }\n",
              "\n",
              "    .dataframe thead th {\n",
              "        text-align: right;\n",
              "    }\n",
              "</style>\n",
              "<table border=\"1\" class=\"dataframe\">\n",
              "  <thead>\n",
              "    <tr style=\"text-align: right;\">\n",
              "      <th></th>\n",
              "      <th>Survived</th>\n",
              "      <th>Pclass</th>\n",
              "      <th>Sex</th>\n",
              "      <th>Age</th>\n",
              "      <th>Siblings/Spouses Aboard</th>\n",
              "      <th>Parents/Children Aboard</th>\n",
              "      <th>Fare</th>\n",
              "    </tr>\n",
              "    <tr>\n",
              "      <th>Name</th>\n",
              "      <th></th>\n",
              "      <th></th>\n",
              "      <th></th>\n",
              "      <th></th>\n",
              "      <th></th>\n",
              "      <th></th>\n",
              "      <th></th>\n",
              "    </tr>\n",
              "  </thead>\n",
              "  <tbody>\n",
              "    <tr>\n",
              "      <th>Mr. Owen Harris Braund</th>\n",
              "      <td>0</td>\n",
              "      <td>3</td>\n",
              "      <td>male</td>\n",
              "      <td>22.0</td>\n",
              "      <td>1</td>\n",
              "      <td>0</td>\n",
              "      <td>7.2500</td>\n",
              "    </tr>\n",
              "    <tr>\n",
              "      <th>Miss. Laina Heikkinen</th>\n",
              "      <td>1</td>\n",
              "      <td>3</td>\n",
              "      <td>female</td>\n",
              "      <td>26.0</td>\n",
              "      <td>0</td>\n",
              "      <td>0</td>\n",
              "      <td>7.9250</td>\n",
              "    </tr>\n",
              "    <tr>\n",
              "      <th>Mr. William Henry Allen</th>\n",
              "      <td>0</td>\n",
              "      <td>3</td>\n",
              "      <td>male</td>\n",
              "      <td>35.0</td>\n",
              "      <td>0</td>\n",
              "      <td>0</td>\n",
              "      <td>8.0500</td>\n",
              "    </tr>\n",
              "    <tr>\n",
              "      <th>Mr. James Moran</th>\n",
              "      <td>0</td>\n",
              "      <td>3</td>\n",
              "      <td>male</td>\n",
              "      <td>27.0</td>\n",
              "      <td>0</td>\n",
              "      <td>0</td>\n",
              "      <td>8.4583</td>\n",
              "    </tr>\n",
              "    <tr>\n",
              "      <th>Master. Gosta Leonard Palsson</th>\n",
              "      <td>0</td>\n",
              "      <td>3</td>\n",
              "      <td>male</td>\n",
              "      <td>2.0</td>\n",
              "      <td>3</td>\n",
              "      <td>1</td>\n",
              "      <td>21.0750</td>\n",
              "    </tr>\n",
              "    <tr>\n",
              "      <th>Mrs. Oscar W (Elisabeth Vilhelmina Berg) Johnson</th>\n",
              "      <td>1</td>\n",
              "      <td>3</td>\n",
              "      <td>female</td>\n",
              "      <td>27.0</td>\n",
              "      <td>0</td>\n",
              "      <td>2</td>\n",
              "      <td>11.1333</td>\n",
              "    </tr>\n",
              "    <tr>\n",
              "      <th>Miss. Marguerite Rut Sandstrom</th>\n",
              "      <td>1</td>\n",
              "      <td>3</td>\n",
              "      <td>female</td>\n",
              "      <td>4.0</td>\n",
              "      <td>1</td>\n",
              "      <td>1</td>\n",
              "      <td>16.7000</td>\n",
              "    </tr>\n",
              "    <tr>\n",
              "      <th>Mr. William Henry Saundercock</th>\n",
              "      <td>0</td>\n",
              "      <td>3</td>\n",
              "      <td>male</td>\n",
              "      <td>20.0</td>\n",
              "      <td>0</td>\n",
              "      <td>0</td>\n",
              "      <td>8.0500</td>\n",
              "    </tr>\n",
              "    <tr>\n",
              "      <th>Mr. Anders Johan Andersson</th>\n",
              "      <td>0</td>\n",
              "      <td>3</td>\n",
              "      <td>male</td>\n",
              "      <td>39.0</td>\n",
              "      <td>1</td>\n",
              "      <td>5</td>\n",
              "      <td>31.2750</td>\n",
              "    </tr>\n",
              "    <tr>\n",
              "      <th>Miss. Hulda Amanda Adolfina Vestrom</th>\n",
              "      <td>0</td>\n",
              "      <td>3</td>\n",
              "      <td>female</td>\n",
              "      <td>14.0</td>\n",
              "      <td>0</td>\n",
              "      <td>0</td>\n",
              "      <td>7.8542</td>\n",
              "    </tr>\n",
              "  </tbody>\n",
              "</table>\n",
              "</div>"
            ],
            "text/plain": [
              "                                                  Survived  Pclass     Sex  \\\n",
              "Name                                                                         \n",
              "Mr. Owen Harris Braund                                   0       3    male   \n",
              "Miss. Laina Heikkinen                                    1       3  female   \n",
              "Mr. William Henry Allen                                  0       3    male   \n",
              "Mr. James Moran                                          0       3    male   \n",
              "Master. Gosta Leonard Palsson                            0       3    male   \n",
              "Mrs. Oscar W (Elisabeth Vilhelmina Berg) Johnson         1       3  female   \n",
              "Miss. Marguerite Rut Sandstrom                           1       3  female   \n",
              "Mr. William Henry Saundercock                            0       3    male   \n",
              "Mr. Anders Johan Andersson                               0       3    male   \n",
              "Miss. Hulda Amanda Adolfina Vestrom                      0       3  female   \n",
              "\n",
              "                                                   Age  \\\n",
              "Name                                                     \n",
              "Mr. Owen Harris Braund                            22.0   \n",
              "Miss. Laina Heikkinen                             26.0   \n",
              "Mr. William Henry Allen                           35.0   \n",
              "Mr. James Moran                                   27.0   \n",
              "Master. Gosta Leonard Palsson                      2.0   \n",
              "Mrs. Oscar W (Elisabeth Vilhelmina Berg) Johnson  27.0   \n",
              "Miss. Marguerite Rut Sandstrom                     4.0   \n",
              "Mr. William Henry Saundercock                     20.0   \n",
              "Mr. Anders Johan Andersson                        39.0   \n",
              "Miss. Hulda Amanda Adolfina Vestrom               14.0   \n",
              "\n",
              "                                                  Siblings/Spouses Aboard  \\\n",
              "Name                                                                        \n",
              "Mr. Owen Harris Braund                                                  1   \n",
              "Miss. Laina Heikkinen                                                   0   \n",
              "Mr. William Henry Allen                                                 0   \n",
              "Mr. James Moran                                                         0   \n",
              "Master. Gosta Leonard Palsson                                           3   \n",
              "Mrs. Oscar W (Elisabeth Vilhelmina Berg) Johnson                        0   \n",
              "Miss. Marguerite Rut Sandstrom                                          1   \n",
              "Mr. William Henry Saundercock                                           0   \n",
              "Mr. Anders Johan Andersson                                              1   \n",
              "Miss. Hulda Amanda Adolfina Vestrom                                     0   \n",
              "\n",
              "                                                  Parents/Children Aboard  \\\n",
              "Name                                                                        \n",
              "Mr. Owen Harris Braund                                                  0   \n",
              "Miss. Laina Heikkinen                                                   0   \n",
              "Mr. William Henry Allen                                                 0   \n",
              "Mr. James Moran                                                         0   \n",
              "Master. Gosta Leonard Palsson                                           1   \n",
              "Mrs. Oscar W (Elisabeth Vilhelmina Berg) Johnson                        2   \n",
              "Miss. Marguerite Rut Sandstrom                                          1   \n",
              "Mr. William Henry Saundercock                                           0   \n",
              "Mr. Anders Johan Andersson                                              5   \n",
              "Miss. Hulda Amanda Adolfina Vestrom                                     0   \n",
              "\n",
              "                                                     Fare  \n",
              "Name                                                       \n",
              "Mr. Owen Harris Braund                             7.2500  \n",
              "Miss. Laina Heikkinen                              7.9250  \n",
              "Mr. William Henry Allen                            8.0500  \n",
              "Mr. James Moran                                    8.4583  \n",
              "Master. Gosta Leonard Palsson                     21.0750  \n",
              "Mrs. Oscar W (Elisabeth Vilhelmina Berg) Johnson  11.1333  \n",
              "Miss. Marguerite Rut Sandstrom                    16.7000  \n",
              "Mr. William Henry Saundercock                      8.0500  \n",
              "Mr. Anders Johan Andersson                        31.2750  \n",
              "Miss. Hulda Amanda Adolfina Vestrom                7.8542  "
            ]
          },
          "metadata": {
            "tags": []
          },
          "execution_count": 29
        }
      ]
    },
    {
      "cell_type": "code",
      "metadata": {
        "id": "Sh-BOEL67PYa",
        "outputId": "3ec944e6-8003-45a5-dd7d-1b87684a4e9c"
      },
      "source": [
        "#Guarda el conjunto de datos que cumple la condición \n",
        "menores10anios = titanic[titanic['Age']<10]   \n",
        "print(menores10anios.shape)\n",
        "menores10anios.head()"
      ],
      "execution_count": null,
      "outputs": [
        {
          "output_type": "stream",
          "text": [
            "(71, 7)\n"
          ],
          "name": "stdout"
        },
        {
          "output_type": "execute_result",
          "data": {
            "text/html": [
              "<div>\n",
              "<style scoped>\n",
              "    .dataframe tbody tr th:only-of-type {\n",
              "        vertical-align: middle;\n",
              "    }\n",
              "\n",
              "    .dataframe tbody tr th {\n",
              "        vertical-align: top;\n",
              "    }\n",
              "\n",
              "    .dataframe thead th {\n",
              "        text-align: right;\n",
              "    }\n",
              "</style>\n",
              "<table border=\"1\" class=\"dataframe\">\n",
              "  <thead>\n",
              "    <tr style=\"text-align: right;\">\n",
              "      <th></th>\n",
              "      <th>Survived</th>\n",
              "      <th>Pclass</th>\n",
              "      <th>Sex</th>\n",
              "      <th>Age</th>\n",
              "      <th>Siblings/Spouses Aboard</th>\n",
              "      <th>Parents/Children Aboard</th>\n",
              "      <th>Fare</th>\n",
              "    </tr>\n",
              "    <tr>\n",
              "      <th>Name</th>\n",
              "      <th></th>\n",
              "      <th></th>\n",
              "      <th></th>\n",
              "      <th></th>\n",
              "      <th></th>\n",
              "      <th></th>\n",
              "      <th></th>\n",
              "    </tr>\n",
              "  </thead>\n",
              "  <tbody>\n",
              "    <tr>\n",
              "      <th>Master. Gosta Leonard Palsson</th>\n",
              "      <td>0</td>\n",
              "      <td>3</td>\n",
              "      <td>male</td>\n",
              "      <td>2.0</td>\n",
              "      <td>3</td>\n",
              "      <td>1</td>\n",
              "      <td>21.0750</td>\n",
              "    </tr>\n",
              "    <tr>\n",
              "      <th>Miss. Marguerite Rut Sandstrom</th>\n",
              "      <td>1</td>\n",
              "      <td>3</td>\n",
              "      <td>female</td>\n",
              "      <td>4.0</td>\n",
              "      <td>1</td>\n",
              "      <td>1</td>\n",
              "      <td>16.7000</td>\n",
              "    </tr>\n",
              "    <tr>\n",
              "      <th>Master. Eugene Rice</th>\n",
              "      <td>0</td>\n",
              "      <td>3</td>\n",
              "      <td>male</td>\n",
              "      <td>2.0</td>\n",
              "      <td>4</td>\n",
              "      <td>1</td>\n",
              "      <td>29.1250</td>\n",
              "    </tr>\n",
              "    <tr>\n",
              "      <th>Miss. Torborg Danira Palsson</th>\n",
              "      <td>0</td>\n",
              "      <td>3</td>\n",
              "      <td>female</td>\n",
              "      <td>8.0</td>\n",
              "      <td>3</td>\n",
              "      <td>1</td>\n",
              "      <td>21.0750</td>\n",
              "    </tr>\n",
              "    <tr>\n",
              "      <th>Miss. Simonne Marie Anne Andree Laroche</th>\n",
              "      <td>1</td>\n",
              "      <td>2</td>\n",
              "      <td>female</td>\n",
              "      <td>3.0</td>\n",
              "      <td>1</td>\n",
              "      <td>2</td>\n",
              "      <td>41.5792</td>\n",
              "    </tr>\n",
              "  </tbody>\n",
              "</table>\n",
              "</div>"
            ],
            "text/plain": [
              "                                         Survived  Pclass     Sex  Age  \\\n",
              "Name                                                                     \n",
              "Master. Gosta Leonard Palsson                   0       3    male  2.0   \n",
              "Miss. Marguerite Rut Sandstrom                  1       3  female  4.0   \n",
              "Master. Eugene Rice                             0       3    male  2.0   \n",
              "Miss. Torborg Danira Palsson                    0       3  female  8.0   \n",
              "Miss. Simonne Marie Anne Andree Laroche         1       2  female  3.0   \n",
              "\n",
              "                                         Siblings/Spouses Aboard  \\\n",
              "Name                                                               \n",
              "Master. Gosta Leonard Palsson                                  3   \n",
              "Miss. Marguerite Rut Sandstrom                                 1   \n",
              "Master. Eugene Rice                                            4   \n",
              "Miss. Torborg Danira Palsson                                   3   \n",
              "Miss. Simonne Marie Anne Andree Laroche                        1   \n",
              "\n",
              "                                         Parents/Children Aboard     Fare  \n",
              "Name                                                                       \n",
              "Master. Gosta Leonard Palsson                                  1  21.0750  \n",
              "Miss. Marguerite Rut Sandstrom                                 1  16.7000  \n",
              "Master. Eugene Rice                                            1  29.1250  \n",
              "Miss. Torborg Danira Palsson                                   1  21.0750  \n",
              "Miss. Simonne Marie Anne Andree Laroche                        2  41.5792  "
            ]
          },
          "metadata": {
            "tags": []
          },
          "execution_count": 30
        }
      ]
    },
    {
      "cell_type": "code",
      "metadata": {
        "id": "CJr3FXHG7PYa",
        "outputId": "21e91946-74fc-4ffe-9950-66b8e7106dd3"
      },
      "source": [
        "hombres = titanic[titanic['Sex']=='male']\n",
        "print(hombres.shape)\n",
        "hombres.tail()"
      ],
      "execution_count": null,
      "outputs": [
        {
          "output_type": "stream",
          "text": [
            "(573, 7)\n"
          ],
          "name": "stdout"
        },
        {
          "output_type": "execute_result",
          "data": {
            "text/html": [
              "<div>\n",
              "<style scoped>\n",
              "    .dataframe tbody tr th:only-of-type {\n",
              "        vertical-align: middle;\n",
              "    }\n",
              "\n",
              "    .dataframe tbody tr th {\n",
              "        vertical-align: top;\n",
              "    }\n",
              "\n",
              "    .dataframe thead th {\n",
              "        text-align: right;\n",
              "    }\n",
              "</style>\n",
              "<table border=\"1\" class=\"dataframe\">\n",
              "  <thead>\n",
              "    <tr style=\"text-align: right;\">\n",
              "      <th></th>\n",
              "      <th>Survived</th>\n",
              "      <th>Pclass</th>\n",
              "      <th>Sex</th>\n",
              "      <th>Age</th>\n",
              "      <th>Siblings/Spouses Aboard</th>\n",
              "      <th>Parents/Children Aboard</th>\n",
              "      <th>Fare</th>\n",
              "    </tr>\n",
              "    <tr>\n",
              "      <th>Name</th>\n",
              "      <th></th>\n",
              "      <th></th>\n",
              "      <th></th>\n",
              "      <th></th>\n",
              "      <th></th>\n",
              "      <th></th>\n",
              "      <th></th>\n",
              "    </tr>\n",
              "  </thead>\n",
              "  <tbody>\n",
              "    <tr>\n",
              "      <th>Mr. Frederick James Banfield</th>\n",
              "      <td>0</td>\n",
              "      <td>2</td>\n",
              "      <td>male</td>\n",
              "      <td>28.0</td>\n",
              "      <td>0</td>\n",
              "      <td>0</td>\n",
              "      <td>10.50</td>\n",
              "    </tr>\n",
              "    <tr>\n",
              "      <th>Mr. Henry Jr Sutehall</th>\n",
              "      <td>0</td>\n",
              "      <td>3</td>\n",
              "      <td>male</td>\n",
              "      <td>25.0</td>\n",
              "      <td>0</td>\n",
              "      <td>0</td>\n",
              "      <td>7.05</td>\n",
              "    </tr>\n",
              "    <tr>\n",
              "      <th>Rev. Juozas Montvila</th>\n",
              "      <td>0</td>\n",
              "      <td>2</td>\n",
              "      <td>male</td>\n",
              "      <td>27.0</td>\n",
              "      <td>0</td>\n",
              "      <td>0</td>\n",
              "      <td>13.00</td>\n",
              "    </tr>\n",
              "    <tr>\n",
              "      <th>Mr. Karl Howell Behr</th>\n",
              "      <td>1</td>\n",
              "      <td>1</td>\n",
              "      <td>male</td>\n",
              "      <td>26.0</td>\n",
              "      <td>0</td>\n",
              "      <td>0</td>\n",
              "      <td>30.00</td>\n",
              "    </tr>\n",
              "    <tr>\n",
              "      <th>Mr. Patrick Dooley</th>\n",
              "      <td>0</td>\n",
              "      <td>3</td>\n",
              "      <td>male</td>\n",
              "      <td>32.0</td>\n",
              "      <td>0</td>\n",
              "      <td>0</td>\n",
              "      <td>7.75</td>\n",
              "    </tr>\n",
              "  </tbody>\n",
              "</table>\n",
              "</div>"
            ],
            "text/plain": [
              "                              Survived  Pclass   Sex   Age  \\\n",
              "Name                                                         \n",
              "Mr. Frederick James Banfield         0       2  male  28.0   \n",
              "Mr. Henry Jr Sutehall                0       3  male  25.0   \n",
              "Rev. Juozas Montvila                 0       2  male  27.0   \n",
              "Mr. Karl Howell Behr                 1       1  male  26.0   \n",
              "Mr. Patrick Dooley                   0       3  male  32.0   \n",
              "\n",
              "                              Siblings/Spouses Aboard  \\\n",
              "Name                                                    \n",
              "Mr. Frederick James Banfield                        0   \n",
              "Mr. Henry Jr Sutehall                               0   \n",
              "Rev. Juozas Montvila                                0   \n",
              "Mr. Karl Howell Behr                                0   \n",
              "Mr. Patrick Dooley                                  0   \n",
              "\n",
              "                              Parents/Children Aboard   Fare  \n",
              "Name                                                          \n",
              "Mr. Frederick James Banfield                        0  10.50  \n",
              "Mr. Henry Jr Sutehall                               0   7.05  \n",
              "Rev. Juozas Montvila                                0  13.00  \n",
              "Mr. Karl Howell Behr                                0  30.00  \n",
              "Mr. Patrick Dooley                                  0   7.75  "
            ]
          },
          "metadata": {
            "tags": []
          },
          "execution_count": 31
        }
      ]
    },
    {
      "cell_type": "code",
      "metadata": {
        "id": "uO4BQt807PYa",
        "outputId": "a3745428-a327-41b9-eb97-13440bd631ff"
      },
      "source": [
        "#Subconjunto de pasajeros de primera clase mujeres\n",
        "filtro1 = titanic['Pclass']==1\n",
        "filtro2 = titanic['Sex']=='female'\n",
        "\n",
        "MujeresPrimera=titanic[filtro1 & filtro2]\n",
        "\n",
        "print(MujeresPrimera.shape)\n",
        "MujeresPrimera.head()"
      ],
      "execution_count": null,
      "outputs": [
        {
          "output_type": "stream",
          "text": [
            "(94, 7)\n"
          ],
          "name": "stdout"
        },
        {
          "output_type": "execute_result",
          "data": {
            "text/html": [
              "<div>\n",
              "<style scoped>\n",
              "    .dataframe tbody tr th:only-of-type {\n",
              "        vertical-align: middle;\n",
              "    }\n",
              "\n",
              "    .dataframe tbody tr th {\n",
              "        vertical-align: top;\n",
              "    }\n",
              "\n",
              "    .dataframe thead th {\n",
              "        text-align: right;\n",
              "    }\n",
              "</style>\n",
              "<table border=\"1\" class=\"dataframe\">\n",
              "  <thead>\n",
              "    <tr style=\"text-align: right;\">\n",
              "      <th></th>\n",
              "      <th>Survived</th>\n",
              "      <th>Pclass</th>\n",
              "      <th>Sex</th>\n",
              "      <th>Age</th>\n",
              "      <th>Siblings/Spouses Aboard</th>\n",
              "      <th>Parents/Children Aboard</th>\n",
              "      <th>Fare</th>\n",
              "    </tr>\n",
              "    <tr>\n",
              "      <th>Name</th>\n",
              "      <th></th>\n",
              "      <th></th>\n",
              "      <th></th>\n",
              "      <th></th>\n",
              "      <th></th>\n",
              "      <th></th>\n",
              "      <th></th>\n",
              "    </tr>\n",
              "  </thead>\n",
              "  <tbody>\n",
              "    <tr>\n",
              "      <th>Mrs. John Bradley (Florence Briggs Thayer) Cumings</th>\n",
              "      <td>1</td>\n",
              "      <td>1</td>\n",
              "      <td>female</td>\n",
              "      <td>38.0</td>\n",
              "      <td>1</td>\n",
              "      <td>0</td>\n",
              "      <td>71.2833</td>\n",
              "    </tr>\n",
              "    <tr>\n",
              "      <th>Mrs. Jacques Heath (Lily May Peel) Futrelle</th>\n",
              "      <td>1</td>\n",
              "      <td>1</td>\n",
              "      <td>female</td>\n",
              "      <td>35.0</td>\n",
              "      <td>1</td>\n",
              "      <td>0</td>\n",
              "      <td>53.1000</td>\n",
              "    </tr>\n",
              "    <tr>\n",
              "      <th>Miss. Elizabeth Bonnell</th>\n",
              "      <td>1</td>\n",
              "      <td>1</td>\n",
              "      <td>female</td>\n",
              "      <td>58.0</td>\n",
              "      <td>0</td>\n",
              "      <td>0</td>\n",
              "      <td>26.5500</td>\n",
              "    </tr>\n",
              "    <tr>\n",
              "      <th>Mrs. William Augustus (Marie Eugenie) Spencer</th>\n",
              "      <td>1</td>\n",
              "      <td>1</td>\n",
              "      <td>female</td>\n",
              "      <td>48.0</td>\n",
              "      <td>1</td>\n",
              "      <td>0</td>\n",
              "      <td>146.5208</td>\n",
              "    </tr>\n",
              "    <tr>\n",
              "      <th>Mrs. Henry Sleeper (Myna Haxtun) Harper</th>\n",
              "      <td>1</td>\n",
              "      <td>1</td>\n",
              "      <td>female</td>\n",
              "      <td>49.0</td>\n",
              "      <td>1</td>\n",
              "      <td>0</td>\n",
              "      <td>76.7292</td>\n",
              "    </tr>\n",
              "  </tbody>\n",
              "</table>\n",
              "</div>"
            ],
            "text/plain": [
              "                                                    Survived  Pclass     Sex  \\\n",
              "Name                                                                           \n",
              "Mrs. John Bradley (Florence Briggs Thayer) Cumings         1       1  female   \n",
              "Mrs. Jacques Heath (Lily May Peel) Futrelle                1       1  female   \n",
              "Miss. Elizabeth Bonnell                                    1       1  female   \n",
              "Mrs. William Augustus (Marie Eugenie) Spencer              1       1  female   \n",
              "Mrs. Henry Sleeper (Myna Haxtun) Harper                    1       1  female   \n",
              "\n",
              "                                                     Age  \\\n",
              "Name                                                       \n",
              "Mrs. John Bradley (Florence Briggs Thayer) Cumings  38.0   \n",
              "Mrs. Jacques Heath (Lily May Peel) Futrelle         35.0   \n",
              "Miss. Elizabeth Bonnell                             58.0   \n",
              "Mrs. William Augustus (Marie Eugenie) Spencer       48.0   \n",
              "Mrs. Henry Sleeper (Myna Haxtun) Harper             49.0   \n",
              "\n",
              "                                                    Siblings/Spouses Aboard  \\\n",
              "Name                                                                          \n",
              "Mrs. John Bradley (Florence Briggs Thayer) Cumings                        1   \n",
              "Mrs. Jacques Heath (Lily May Peel) Futrelle                               1   \n",
              "Miss. Elizabeth Bonnell                                                   0   \n",
              "Mrs. William Augustus (Marie Eugenie) Spencer                             1   \n",
              "Mrs. Henry Sleeper (Myna Haxtun) Harper                                   1   \n",
              "\n",
              "                                                    Parents/Children Aboard  \\\n",
              "Name                                                                          \n",
              "Mrs. John Bradley (Florence Briggs Thayer) Cumings                        0   \n",
              "Mrs. Jacques Heath (Lily May Peel) Futrelle                               0   \n",
              "Miss. Elizabeth Bonnell                                                   0   \n",
              "Mrs. William Augustus (Marie Eugenie) Spencer                             0   \n",
              "Mrs. Henry Sleeper (Myna Haxtun) Harper                                   0   \n",
              "\n",
              "                                                        Fare  \n",
              "Name                                                          \n",
              "Mrs. John Bradley (Florence Briggs Thayer) Cumings   71.2833  \n",
              "Mrs. Jacques Heath (Lily May Peel) Futrelle          53.1000  \n",
              "Miss. Elizabeth Bonnell                              26.5500  \n",
              "Mrs. William Augustus (Marie Eugenie) Spencer       146.5208  \n",
              "Mrs. Henry Sleeper (Myna Haxtun) Harper              76.7292  "
            ]
          },
          "metadata": {
            "tags": []
          },
          "execution_count": 32
        }
      ]
    },
    {
      "cell_type": "markdown",
      "metadata": {
        "id": "X5qQZ8ky7PYa"
      },
      "source": [
        "## Recomendacion para programadores que inician su práctica.\n",
        "\n",
        "\n",
        "1. Escribe y ejecuta una sola linea de codigo para explorar tus datos\n",
        "2. Verifica su correcto funcionamiento, obteniendo el output de esa linea\n",
        "3. Asigna el resultad a una variable\n",
        "4. En la misma linea, muestra las primeras lineas del Data Frame o la Serie, según la acción ejecutada.\n",
        "5. Continua en la siguiente celda."
      ]
    }
  ]
}